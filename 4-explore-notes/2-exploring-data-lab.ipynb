{
 "cells": [
  {
   "cell_type": "markdown",
   "metadata": {},
   "source": [
    "# Exploring Data with Fema"
   ]
  },
  {
   "cell_type": "markdown",
   "metadata": {},
   "source": [
    "### Introduction"
   ]
  },
  {
   "cell_type": "markdown",
   "metadata": {},
   "source": [
    "In this lesson, we'll look at FEMA claims data gathered for the [Washington Post's article on Houston Flooding](https://www.washingtonpost.com/graphics/2017/investigations/harvey-urban-planning/) which they made available [here](https://github.com/wpinvestigative/fema_claims).  Let's load up the data and see what we have."
   ]
  },
  {
   "cell_type": "markdown",
   "metadata": {},
   "source": [
    "### Loading the Data"
   ]
  },
  {
   "cell_type": "code",
   "execution_count": 1,
   "metadata": {},
   "outputs": [],
   "source": [
    "import pandas as pd \n",
    "url = \"https://raw.githubusercontent.com/jigsawlabs-student/exploring-pandas/master/formatted_claims_all.txt\"\n",
    "df = pd.read_csv(url, sep='\\t')"
   ]
  },
  {
   "cell_type": "markdown",
   "metadata": {},
   "source": [
    "Use head to take a look at the first five rows of data."
   ]
  },
  {
   "cell_type": "code",
   "execution_count": 2,
   "metadata": {},
   "outputs": [],
   "source": [
    "first_five = None\n",
    "first_five\n",
    "\n",
    "# \tstate\tcounty\tcommunity\ttotal_loss\tclosed_loss\topen_loss\tcwop_loss\ttotal_pay\n",
    "# 0\tALABAMA\tAUTAUGA COUNTY\tAUTAUGA COUNTY *\t33.0\t23.0\t2.0\t8.0\t518669.96\n",
    "# 1\tALABAMA\tAUTAUGA COUNTY\tAUTAUGAVILLE, TOWN OF\t1.0\t0.0\t0.0\t1.0\t0.00\n",
    "# 2\tALABAMA\tAUTAUGA COUNTY\tMILLBROOK, CITY OF\t9.0\t6.0\t0.0\t3.0\t74633.64\n",
    "# 3\tALABAMA\tAUTAUGA COUNTY\tMONTGOMERY, CITY OF\t295.0\t195.0\t6.0\t94.0\t4113018.78\n",
    "# 4\tALABAMA\tAUTAUGA COUNTY\tPRATTVILLE, CITY OF\t45.0\t35.0\t3.0\t7.0\t700387.26"
   ]
  },
  {
   "cell_type": "markdown",
   "metadata": {},
   "source": [
    "Let's try to get a sense of what these loss and pay columns mean.  A quick Google search takes us to [the following data dictionary](https://www.fema.gov/data-definitions-claim-information-state-and-policy-information-state)."
   ]
  },
  {
   "cell_type": "markdown",
   "metadata": {},
   "source": [
    "<img src=\"./data-dictionary-fema.png\" width=\"50%\">"
   ]
  },
  {
   "cell_type": "markdown",
   "metadata": {},
   "source": [
    "### Reducing our Data"
   ]
  },
  {
   "cell_type": "markdown",
   "metadata": {},
   "source": [
    "So it looks like the data in the total loss column is a sum of the other loss columns.  Let's confirm that."
   ]
  },
  {
   "cell_type": "markdown",
   "metadata": {},
   "source": [
    "Find a dataframe (or a series) selecting all of the rows where the sum of the other columns does not equal the total losses column.  If we see that almost all are equal, we know this is duplicate information."
   ]
  },
  {
   "cell_type": "code",
   "execution_count": 5,
   "metadata": {},
   "outputs": [],
   "source": [
    "loss_cols = ['closed_loss', 'open_loss', 'cwop_loss']\n",
    "df_loss = df[loss_cols]\n",
    "\n",
    "not_eq_total = None"
   ]
  },
  {
   "cell_type": "code",
   "execution_count": 4,
   "metadata": {},
   "outputs": [
    {
     "data": {
      "text/plain": [
       "(56, 3)"
      ]
     },
     "execution_count": 4,
     "metadata": {},
     "output_type": "execute_result"
    }
   ],
   "source": [
    "not_eq_total.shape\n",
    "# (56, 3)"
   ]
  },
  {
   "cell_type": "markdown",
   "metadata": {},
   "source": [
    "Now let's look at the entire dataset to see what portion of these columns are not equal."
   ]
  },
  {
   "cell_type": "code",
   "execution_count": 14,
   "metadata": {},
   "outputs": [
    {
     "data": {
      "text/plain": [
       "(15533, 8)"
      ]
     },
     "execution_count": 14,
     "metadata": {},
     "output_type": "execute_result"
    }
   ],
   "source": [
    "df.shape"
   ]
  },
  {
   "cell_type": "markdown",
   "metadata": {},
   "source": [
    "It looks like the total loss column is, as the kids say, [extra](https://www.urbandictionary.com/define.php?term=extra). Let's get rid of it."
   ]
  },
  {
   "cell_type": "code",
   "execution_count": 6,
   "metadata": {},
   "outputs": [],
   "source": [
    "reduced_df = None"
   ]
  },
  {
   "cell_type": "code",
   "execution_count": null,
   "metadata": {},
   "outputs": [],
   "source": [
    "reduced_df.columns\n",
    "# Index(['state', 'county', 'community', 'closed_loss', 'open_loss', 'cwop_loss',\n",
    "#        'total_pay'],"
   ]
  },
  {
   "cell_type": "markdown",
   "metadata": {},
   "source": [
    "Now let's take a look at the missing data.  Let's get a count of the missing values across the columns."
   ]
  },
  {
   "cell_type": "code",
   "execution_count": 7,
   "metadata": {},
   "outputs": [],
   "source": [
    "# write code here to count the missing values across columns\n",
    "\n",
    "# state           0\n",
    "# county          0\n",
    "# community       0\n",
    "# closed_loss    56\n",
    "# open_loss      56\n",
    "# cwop_loss      56\n",
    "# total_pay      56"
   ]
  },
  {
   "cell_type": "markdown",
   "metadata": {},
   "source": [
    "It looks like when one column is missing, the rest are also missing.  Let's confirm this.  Select all of the rows where just `closed_loss` is `na`."
   ]
  },
  {
   "cell_type": "code",
   "execution_count": 8,
   "metadata": {},
   "outputs": [],
   "source": [
    "closed_loss_na = None"
   ]
  },
  {
   "cell_type": "code",
   "execution_count": null,
   "metadata": {},
   "outputs": [],
   "source": [
    "closed_loss_na.shape\n",
    "# (56, 7)"
   ]
  },
  {
   "cell_type": "markdown",
   "metadata": {},
   "source": [
    "Let's take a look."
   ]
  },
  {
   "cell_type": "code",
   "execution_count": 20,
   "metadata": {},
   "outputs": [
    {
     "data": {
      "text/html": [
       "<div>\n",
       "<style scoped>\n",
       "    .dataframe tbody tr th:only-of-type {\n",
       "        vertical-align: middle;\n",
       "    }\n",
       "\n",
       "    .dataframe tbody tr th {\n",
       "        vertical-align: top;\n",
       "    }\n",
       "\n",
       "    .dataframe thead th {\n",
       "        text-align: right;\n",
       "    }\n",
       "</style>\n",
       "<table border=\"1\" class=\"dataframe\">\n",
       "  <thead>\n",
       "    <tr style=\"text-align: right;\">\n",
       "      <th></th>\n",
       "      <th>state</th>\n",
       "      <th>county</th>\n",
       "      <th>community</th>\n",
       "      <th>closed_loss</th>\n",
       "      <th>open_loss</th>\n",
       "      <th>cwop_loss</th>\n",
       "      <th>total_pay</th>\n",
       "    </tr>\n",
       "  </thead>\n",
       "  <tbody>\n",
       "    <tr>\n",
       "      <th>242</th>\n",
       "      <td>ALASKA</td>\n",
       "      <td>--------------------------------</td>\n",
       "      <td>--------------------------------</td>\n",
       "      <td>NaN</td>\n",
       "      <td>NaN</td>\n",
       "      <td>NaN</td>\n",
       "      <td>NaN</td>\n",
       "    </tr>\n",
       "    <tr>\n",
       "      <th>264</th>\n",
       "      <td>AMERICAN SAMOA</td>\n",
       "      <td>--------------------------------</td>\n",
       "      <td>--------------------------------</td>\n",
       "      <td>NaN</td>\n",
       "      <td>NaN</td>\n",
       "      <td>NaN</td>\n",
       "      <td>NaN</td>\n",
       "    </tr>\n",
       "    <tr>\n",
       "      <th>266</th>\n",
       "      <td>ARIZONA</td>\n",
       "      <td>--------------------------------</td>\n",
       "      <td>--------------------------------</td>\n",
       "      <td>NaN</td>\n",
       "      <td>NaN</td>\n",
       "      <td>NaN</td>\n",
       "      <td>NaN</td>\n",
       "    </tr>\n",
       "  </tbody>\n",
       "</table>\n",
       "</div>"
      ],
      "text/plain": [
       "              state                            county  \\\n",
       "242          ALASKA  --------------------------------   \n",
       "264  AMERICAN SAMOA  --------------------------------   \n",
       "266         ARIZONA  --------------------------------   \n",
       "\n",
       "                            community  closed_loss  open_loss  cwop_loss  \\\n",
       "242  --------------------------------          NaN        NaN        NaN   \n",
       "264  --------------------------------          NaN        NaN        NaN   \n",
       "266  --------------------------------          NaN        NaN        NaN   \n",
       "\n",
       "     total_pay  \n",
       "242        NaN  \n",
       "264        NaN  \n",
       "266        NaN  "
      ]
     },
     "execution_count": 20,
     "metadata": {},
     "output_type": "execute_result"
    }
   ],
   "source": [
    "closed_loss_na[:3]\n",
    "\n",
    "# \tstate\tcounty\tcommunity\tclosed_loss\topen_loss\tcwop_loss\ttotal_pay\n",
    "# 242\tALASKA\t--------------------------------\t--------------------------------\tNaN\tNaN\tNaN\tNaN\n",
    "# 264\tAMERICAN SAMOA\t--------------------------------\t--------------------------------\tNaN\tNaN\tNaN\tNaN\n",
    "# 266\tARIZONA\t--------------------------------\t--------------------------------\tNaN\tNaN\tNaN\tNaN"
   ]
  },
  {
   "cell_type": "markdown",
   "metadata": {},
   "source": [
    "Ok, if we look across all of the rows, we can see that each row is completely blank.  It appears that this may be simply a list of the states and territories."
   ]
  },
  {
   "cell_type": "code",
   "execution_count": 22,
   "metadata": {},
   "outputs": [
    {
     "data": {
      "text/plain": [
       "242            ALASKA\n",
       "264    AMERICAN SAMOA\n",
       "266           ARIZONA\n",
       "355          ARKANSAS\n",
       "624        CALIFORNIA\n",
       "Name: state, dtype: object"
      ]
     },
     "execution_count": 22,
     "metadata": {},
     "output_type": "execute_result"
    }
   ],
   "source": [
    "closed_loss_na.state[:5]\n",
    "# 242            ALASKA\n",
    "# 264    AMERICAN SAMOA\n",
    "# 266           ARIZONA\n",
    "# 355          ARKANSAS\n",
    "# 624        CALIFORNIA\n",
    "# Name: state, dtype: object"
   ]
  },
  {
   "cell_type": "markdown",
   "metadata": {},
   "source": [
    "Ok, it seems safe to drop each of these rows.  Remove the rows that have missing data and assign the result to the variable `reduced_no_missing`."
   ]
  },
  {
   "cell_type": "code",
   "execution_count": 10,
   "metadata": {},
   "outputs": [],
   "source": [
    "reduced_no_missing = None"
   ]
  },
  {
   "cell_type": "code",
   "execution_count": 12,
   "metadata": {},
   "outputs": [],
   "source": [
    "reduced_no_missing.shape\n",
    "\n",
    "# (15477, 7)"
   ]
  },
  {
   "cell_type": "markdown",
   "metadata": {},
   "source": [
    "### Exploring Data"
   ]
  },
  {
   "cell_type": "markdown",
   "metadata": {},
   "source": [
    "Now that we've cleaned up some of our data, let's do a check to see that our data is of the correct type, before we attempt to perform any analysis."
   ]
  },
  {
   "cell_type": "code",
   "execution_count": 13,
   "metadata": {},
   "outputs": [],
   "source": [
    "# check the datatypes of the reduced_no_missing dataframe.\n",
    "\n",
    "# state           object\n",
    "# county          object\n",
    "# community       object\n",
    "# closed_loss    float64\n",
    "# open_loss      float64\n",
    "# cwop_loss      float64\n",
    "# total_pay      float64\n",
    "# dtype: object\n"
   ]
  },
  {
   "cell_type": "markdown",
   "metadata": {},
   "source": [
    "Ok, looks good."
   ]
  },
  {
   "cell_type": "markdown",
   "metadata": {},
   "source": [
    "Now let's get a sense of some of our data.  We have data from all fifty states, but let's just focus on Texas for now."
   ]
  },
  {
   "cell_type": "code",
   "execution_count": 14,
   "metadata": {},
   "outputs": [],
   "source": [
    "texas_df = None"
   ]
  },
  {
   "cell_type": "code",
   "execution_count": 31,
   "metadata": {},
   "outputs": [
    {
     "data": {
      "text/plain": [
       "(896, 7)"
      ]
     },
     "execution_count": 31,
     "metadata": {},
     "output_type": "execute_result"
    }
   ],
   "source": [
    "texas_df.shape"
   ]
  },
  {
   "cell_type": "markdown",
   "metadata": {},
   "source": [
    "This seems a little more manageable."
   ]
  },
  {
   "cell_type": "markdown",
   "metadata": {},
   "source": [
    "Ok, let's try creating a histogram of all of our numeric columns."
   ]
  },
  {
   "cell_type": "code",
   "execution_count": 15,
   "metadata": {},
   "outputs": [],
   "source": [
    "# write code to create plot here"
   ]
  },
  {
   "cell_type": "markdown",
   "metadata": {},
   "source": [
    "> Answer <img src=\"./hist-tx-fema.png\" width=\"50%\">"
   ]
  },
  {
   "cell_type": "markdown",
   "metadata": {},
   "source": [
    "Hmm, not very useful.  It looks like outliers are expanding the range of our data.  Let's choose just the `closed_loss` column, which remember represents a count of the losses that have been paid.  Set an range on the x values at 10000, with 500 bins.  Label. the x axis `no. claims` and the y axis `count`, and assign a title of `TX closed claims by county`."
   ]
  },
  {
   "cell_type": "code",
   "execution_count": 17,
   "metadata": {},
   "outputs": [],
   "source": [
    "# write code here "
   ]
  },
  {
   "cell_type": "markdown",
   "metadata": {},
   "source": [
    "> Answer: <img src=\"./tx-closed-claims-style.png\" width=\"50%\">"
   ]
  },
  {
   "cell_type": "markdown",
   "metadata": {},
   "source": [
    "Ok, perhaps a little better, but not great.  Let's use `describe` to see if it can help us set a range for our data of closed losses."
   ]
  },
  {
   "cell_type": "code",
   "execution_count": 18,
   "metadata": {},
   "outputs": [],
   "source": [
    "# write code here\n",
    "\n",
    "# count      896.000000\n",
    "# mean       241.588170\n",
    "# std       1922.330777\n",
    "# min          0.000000\n",
    "# 25%          2.000000\n",
    "# 50%         10.500000\n",
    "# 75%         59.250000\n",
    "# max      45059.000000"
   ]
  },
  {
   "cell_type": "markdown",
   "metadata": {},
   "source": [
    "Ok, so it looks like most of our data is between 2 and 59 claims, and there's a max of 45000 claims."
   ]
  },
  {
   "cell_type": "markdown",
   "metadata": {},
   "source": [
    "Let's get an even more detailed sense of how our `closed_loss` data breaks down by looking at value_counts, and selecting just the top five values."
   ]
  },
  {
   "cell_type": "code",
   "execution_count": 19,
   "metadata": {},
   "outputs": [],
   "source": [
    "#  write code here\n",
    "\n",
    "\n",
    "# 1.0    101\n",
    "# 2.0     89\n",
    "# 4.0     53\n",
    "# 3.0     45\n",
    "# 0.0     40\n",
    "# 5.0     31\n",
    "# Name: closed_loss, dtype: int64"
   ]
  },
  {
   "cell_type": "markdown",
   "metadata": {},
   "source": [
    "And we can use the `normalize` argument to get a sense of what percentage of the data we are talking about.\n",
    "\n",
    "> Select the first six rows and assign to `percent_of_values`."
   ]
  },
  {
   "cell_type": "code",
   "execution_count": 20,
   "metadata": {},
   "outputs": [],
   "source": [
    "percent_of_values = None\n"
   ]
  },
  {
   "cell_type": "code",
   "execution_count": null,
   "metadata": {},
   "outputs": [],
   "source": [
    "percent_of_values\n",
    "\n",
    "# 1.0    0.112723\n",
    "# 2.0    0.099330\n",
    "# 4.0    0.059152\n",
    "# 3.0    0.050223\n",
    "# 0.0    0.044643\n",
    "# 5.0    0.034598"
   ]
  },
  {
   "cell_type": "code",
   "execution_count": 92,
   "metadata": {},
   "outputs": [
    {
     "data": {
      "text/plain": [
       "0.4006696428571429"
      ]
     },
     "execution_count": 92,
     "metadata": {},
     "output_type": "execute_result"
    }
   ],
   "source": [
    "percent_of_values.sum()"
   ]
  },
  {
   "cell_type": "markdown",
   "metadata": {},
   "source": [
    "So we can see that 40 percent of the counties had between 0 and 5 claims.\n",
    "\n",
    "> Now depending on our research, this data in itself may be interesting.  For example, this is still closed FEMA flooding claims, so perhaps this percent goes up or down over time.\n",
    "\n",
    "For now, let's focus on the data with claims above 2, the interquartile range."
   ]
  },
  {
   "cell_type": "markdown",
   "metadata": {},
   "source": [
    "Let's start by just plotting what's roughly the data roughly in the interquartile range (the range between the 25th and 75th percentile).  Here that would technically be data between 2 and 59, but let's choose data between 2 and 60."
   ]
  },
  {
   "cell_type": "markdown",
   "metadata": {},
   "source": [
    "> To do so, first select just the rows where the number of claims is between 6 and 50, and assign the resulting dataframe to `texas_iqr`."
   ]
  },
  {
   "cell_type": "code",
   "execution_count": 21,
   "metadata": {},
   "outputs": [],
   "source": [
    "texas_iqr = None"
   ]
  },
  {
   "cell_type": "code",
   "execution_count": 99,
   "metadata": {},
   "outputs": [
    {
     "data": {
      "text/plain": [
       "(442, 7)"
      ]
     },
     "execution_count": 99,
     "metadata": {},
     "output_type": "execute_result"
    }
   ],
   "source": [
    "texas_iqr.shape\n",
    "# (442, 7)"
   ]
  },
  {
   "cell_type": "markdown",
   "metadata": {},
   "source": [
    "Let's see how this compares to the rest of our Texas data."
   ]
  },
  {
   "cell_type": "code",
   "execution_count": 77,
   "metadata": {},
   "outputs": [
    {
     "data": {
      "text/plain": [
       "(896, 7)"
      ]
     },
     "execution_count": 77,
     "metadata": {},
     "output_type": "execute_result"
    }
   ],
   "source": [
    "texas_df.shape"
   ]
  },
  {
   "cell_type": "markdown",
   "metadata": {},
   "source": [
    "So now we are zooming in on roughly half of our data."
   ]
  },
  {
   "cell_type": "markdown",
   "metadata": {},
   "source": [
    "Plot the closed losses, and set an x range between 4 and 60, and a y range between 0 and 35."
   ]
  },
  {
   "cell_type": "code",
   "execution_count": 23,
   "metadata": {},
   "outputs": [],
   "source": [
    "# write plot here"
   ]
  },
  {
   "cell_type": "markdown",
   "metadata": {},
   "source": [
    "> Answer <img src=\"./tx-claims-iqr.png\" width=\"40%\">"
   ]
  },
  {
   "cell_type": "markdown",
   "metadata": {},
   "source": [
    "Ok, now what be even more interesting is focusing on the counties that have the most amount of claims."
   ]
  },
  {
   "cell_type": "markdown",
   "metadata": {},
   "source": [
    "We can look at the values at the higher percentiles the `describe` method and using the percentiles method.  Set percentiles of `.85, .90, .95` and `.99`. "
   ]
  },
  {
   "cell_type": "code",
   "execution_count": 24,
   "metadata": {},
   "outputs": [],
   "source": [
    "# write code here\n",
    "\n",
    "# count      896.000000\n",
    "# mean       241.588170\n",
    "# std       1922.330777\n",
    "# min          0.000000\n",
    "# 50%         10.500000\n",
    "# 85%        141.500000\n",
    "# 90%        292.500000\n",
    "# 95%        718.250000\n",
    "# 99%       2397.700000\n",
    "# max      45059.000000\n",
    "# Name: closed_loss, dtype: float64"
   ]
  },
  {
   "cell_type": "markdown",
   "metadata": {},
   "source": [
    "Now notice that there's even a huge gap between data in our 99th percentile, and our county with the maximum number of claims."
   ]
  },
  {
   "cell_type": "markdown",
   "metadata": {},
   "source": [
    "Let's look at some of the counties with some of the highest number of claims.  To do so, use the `sort_by` method in pandas."
   ]
  },
  {
   "cell_type": "code",
   "execution_count": 25,
   "metadata": {},
   "outputs": [],
   "source": [
    "sorted_tx = None"
   ]
  },
  {
   "cell_type": "code",
   "execution_count": null,
   "metadata": {},
   "outputs": [],
   "source": [
    "sorted_tx[['county', 'community', 'closed_loss']][:5]\n",
    "\n",
    "# \tcounty\tcommunity\tclosed_loss\n",
    "# 13635\tHARRIS COUNTY\tHOUSTON, CITY OF\t45059.00\n",
    "# 13632\tHARRIS COUNTY\tHARRIS COUNTY*\t26988.00\n",
    "# 13573\tGALVESTON COUNTY\tGALVESTON COUNTY*\t14203.00\n",
    "# 13574\tGALVESTON COUNTY\tGALVESTON, CITY OF\t14098.00\n",
    "# 13870\tMONTGOMERY COUNTY\tMONTGOMERY COUNTY*\t6446.00"
   ]
  },
  {
   "cell_type": "markdown",
   "metadata": {},
   "source": [
    "> If you're like me, scientific notation can be pretty confusing.  We can get rid of it with the following."
   ]
  },
  {
   "cell_type": "code",
   "execution_count": 119,
   "metadata": {},
   "outputs": [],
   "source": [
    "pd.options.display.float_format = '{:.2f}'.format"
   ]
  },
  {
   "cell_type": "code",
   "execution_count": 142,
   "metadata": {},
   "outputs": [
    {
     "data": {
      "text/html": [
       "<div>\n",
       "<style scoped>\n",
       "    .dataframe tbody tr th:only-of-type {\n",
       "        vertical-align: middle;\n",
       "    }\n",
       "\n",
       "    .dataframe tbody tr th {\n",
       "        vertical-align: top;\n",
       "    }\n",
       "\n",
       "    .dataframe thead th {\n",
       "        text-align: right;\n",
       "    }\n",
       "</style>\n",
       "<table border=\"1\" class=\"dataframe\">\n",
       "  <thead>\n",
       "    <tr style=\"text-align: right;\">\n",
       "      <th></th>\n",
       "      <th>county</th>\n",
       "      <th>community</th>\n",
       "      <th>closed_loss</th>\n",
       "    </tr>\n",
       "  </thead>\n",
       "  <tbody>\n",
       "    <tr>\n",
       "      <th>13635</th>\n",
       "      <td>HARRIS COUNTY</td>\n",
       "      <td>HOUSTON, CITY OF</td>\n",
       "      <td>45059.00</td>\n",
       "    </tr>\n",
       "    <tr>\n",
       "      <th>13632</th>\n",
       "      <td>HARRIS COUNTY</td>\n",
       "      <td>HARRIS COUNTY*</td>\n",
       "      <td>26988.00</td>\n",
       "    </tr>\n",
       "    <tr>\n",
       "      <th>13573</th>\n",
       "      <td>GALVESTON COUNTY</td>\n",
       "      <td>GALVESTON COUNTY*</td>\n",
       "      <td>14203.00</td>\n",
       "    </tr>\n",
       "    <tr>\n",
       "      <th>13574</th>\n",
       "      <td>GALVESTON COUNTY</td>\n",
       "      <td>GALVESTON, CITY OF</td>\n",
       "      <td>14098.00</td>\n",
       "    </tr>\n",
       "  </tbody>\n",
       "</table>\n",
       "</div>"
      ],
      "text/plain": [
       "                 county                         community  closed_loss\n",
       "13635     HARRIS COUNTY  HOUSTON, CITY OF                     45059.00\n",
       "13632     HARRIS COUNTY  HARRIS COUNTY*                       26988.00\n",
       "13573  GALVESTON COUNTY  GALVESTON COUNTY*                    14203.00\n",
       "13574  GALVESTON COUNTY  GALVESTON, CITY OF                   14098.00"
      ]
     },
     "execution_count": 142,
     "metadata": {},
     "output_type": "execute_result"
    }
   ],
   "source": [
    "sorted_tx_reduced = sorted_tx[['county', 'community', 'closed_loss']]\n",
    "sorted_tx_reduced[:4]"
   ]
  },
  {
   "cell_type": "markdown",
   "metadata": {},
   "source": [
    "Notice that we see both counties and cities for Harris and Galveston.  We also see similar claim numbers.  It could be that the county encompasses the city.  \n",
    "\n",
    "> We probably should look into what those asterisks mean."
   ]
  },
  {
   "cell_type": "markdown",
   "metadata": {},
   "source": [
    "Let's keep going though.  Let's create a new series of data which captures the percentage of the total closed losses for each county.  Assign this series to teh variable `percent_closed_loss`."
   ]
  },
  {
   "cell_type": "code",
   "execution_count": 27,
   "metadata": {},
   "outputs": [],
   "source": [
    "percent_closed_loss = None"
   ]
  },
  {
   "cell_type": "code",
   "execution_count": null,
   "metadata": {},
   "outputs": [],
   "source": [
    "percent_closed_loss[:5]\n",
    "\n",
    "# 13635   0.21\n",
    "# 13632   0.12\n",
    "# 13573   0.07\n",
    "# 13574   0.07\n",
    "# 13870   0.03\n",
    "# Name: closed_loss, dtype: float64"
   ]
  },
  {
   "cell_type": "markdown",
   "metadata": {},
   "source": [
    "Here's a quick check that we did this correctly."
   ]
  },
  {
   "cell_type": "code",
   "execution_count": 147,
   "metadata": {},
   "outputs": [
    {
     "data": {
      "text/plain": [
       "1.0"
      ]
     },
     "execution_count": 147,
     "metadata": {},
     "output_type": "execute_result"
    }
   ],
   "source": [
    "percent_closed_loss.sum()\n",
    "# 1.0"
   ]
  },
  {
   "cell_type": "markdown",
   "metadata": {},
   "source": [
    "Now let's assign this column to our `sorted_tx_reduced` dataframe, and name the column `closed_loss_percent_total`.  The updated data frame should be named `sorted_tx_percent_df`.  If we look at our dataframe afterwards we should see it."
   ]
  },
  {
   "cell_type": "code",
   "execution_count": 28,
   "metadata": {},
   "outputs": [],
   "source": [
    "sorted_tx_percent_df = None"
   ]
  },
  {
   "cell_type": "code",
   "execution_count": 134,
   "metadata": {},
   "outputs": [
    {
     "data": {
      "text/html": [
       "<div>\n",
       "<style scoped>\n",
       "    .dataframe tbody tr th:only-of-type {\n",
       "        vertical-align: middle;\n",
       "    }\n",
       "\n",
       "    .dataframe tbody tr th {\n",
       "        vertical-align: top;\n",
       "    }\n",
       "\n",
       "    .dataframe thead th {\n",
       "        text-align: right;\n",
       "    }\n",
       "</style>\n",
       "<table border=\"1\" class=\"dataframe\">\n",
       "  <thead>\n",
       "    <tr style=\"text-align: right;\">\n",
       "      <th></th>\n",
       "      <th>county</th>\n",
       "      <th>community</th>\n",
       "      <th>closed_loss</th>\n",
       "      <th>closed_loss_percent_total</th>\n",
       "    </tr>\n",
       "  </thead>\n",
       "  <tbody>\n",
       "    <tr>\n",
       "      <th>13635</th>\n",
       "      <td>HARRIS COUNTY</td>\n",
       "      <td>HOUSTON, CITY OF</td>\n",
       "      <td>45059.00</td>\n",
       "      <td>0.42</td>\n",
       "    </tr>\n",
       "    <tr>\n",
       "      <th>13632</th>\n",
       "      <td>HARRIS COUNTY</td>\n",
       "      <td>HARRIS COUNTY*</td>\n",
       "      <td>26988.00</td>\n",
       "      <td>0.25</td>\n",
       "    </tr>\n",
       "    <tr>\n",
       "      <th>13573</th>\n",
       "      <td>GALVESTON COUNTY</td>\n",
       "      <td>GALVESTON COUNTY*</td>\n",
       "      <td>14203.00</td>\n",
       "      <td>0.13</td>\n",
       "    </tr>\n",
       "    <tr>\n",
       "      <th>13574</th>\n",
       "      <td>GALVESTON COUNTY</td>\n",
       "      <td>GALVESTON, CITY OF</td>\n",
       "      <td>14098.00</td>\n",
       "      <td>0.13</td>\n",
       "    </tr>\n",
       "    <tr>\n",
       "      <th>13870</th>\n",
       "      <td>MONTGOMERY COUNTY</td>\n",
       "      <td>MONTGOMERY COUNTY*</td>\n",
       "      <td>6446.00</td>\n",
       "      <td>0.06</td>\n",
       "    </tr>\n",
       "  </tbody>\n",
       "</table>\n",
       "</div>"
      ],
      "text/plain": [
       "                  county                         community  closed_loss  \\\n",
       "13635      HARRIS COUNTY  HOUSTON, CITY OF                     45059.00   \n",
       "13632      HARRIS COUNTY  HARRIS COUNTY*                       26988.00   \n",
       "13573   GALVESTON COUNTY  GALVESTON COUNTY*                    14203.00   \n",
       "13574   GALVESTON COUNTY  GALVESTON, CITY OF                   14098.00   \n",
       "13870  MONTGOMERY COUNTY  MONTGOMERY COUNTY*                    6446.00   \n",
       "\n",
       "       closed_loss_percent_total  \n",
       "13635                       0.42  \n",
       "13632                       0.25  \n",
       "13573                       0.13  \n",
       "13574                       0.13  \n",
       "13870                       0.06  "
      ]
     },
     "execution_count": 134,
     "metadata": {},
     "output_type": "execute_result"
    }
   ],
   "source": [
    "sorted_tx_percent_df[:5]\n",
    "\n",
    "# \tcounty\tcommunity\tclosed_loss\tclosed_loss_percent_total\n",
    "# 13635\tHARRIS COUNTY\tHOUSTON, CITY OF\t45059.00\t0.42\n",
    "# 13632\tHARRIS COUNTY\tHARRIS COUNTY*\t26988.00\t0.25\n",
    "# 13573\tGALVESTON COUNTY\tGALVESTON COUNTY*\t14203.00\t0.13\n",
    "# 13574\tGALVESTON COUNTY\tGALVESTON, CITY OF\t14098.00\t0.13\n",
    "# 13870\tMONTGOMERY COUNTY\tMONTGOMERY COUNTY*\t6446.00\t0.06"
   ]
  },
  {
   "cell_type": "code",
   "execution_count": 139,
   "metadata": {},
   "outputs": [
    {
     "data": {
      "text/plain": [
       "1.0"
      ]
     },
     "execution_count": 139,
     "metadata": {},
     "output_type": "execute_result"
    }
   ],
   "source": [
    "import numpy as np\n",
    "np.sum(sorted_tx_percent_df['closed_loss_percent_total'][:5])"
   ]
  },
  {
   "cell_type": "code",
   "execution_count": 159,
   "metadata": {},
   "outputs": [
    {
     "data": {
      "text/plain": [
       "0.5194097836581771"
      ]
     },
     "execution_count": 159,
     "metadata": {},
     "output_type": "execute_result"
    }
   ],
   "source": [
    "sorted_tx_percent_df['closed_loss_percent_total'][:6].sum()\n",
    "# 0.46358"
   ]
  },
  {
   "cell_type": "markdown",
   "metadata": {},
   "source": [
    "So we can see over fifty percent of the closed losses in texas are in just 6 of Texas's 896 counties."
   ]
  },
  {
   "cell_type": "code",
   "execution_count": 158,
   "metadata": {},
   "outputs": [
    {
     "data": {
      "text/html": [
       "<div>\n",
       "<style scoped>\n",
       "    .dataframe tbody tr th:only-of-type {\n",
       "        vertical-align: middle;\n",
       "    }\n",
       "\n",
       "    .dataframe tbody tr th {\n",
       "        vertical-align: top;\n",
       "    }\n",
       "\n",
       "    .dataframe thead th {\n",
       "        text-align: right;\n",
       "    }\n",
       "</style>\n",
       "<table border=\"1\" class=\"dataframe\">\n",
       "  <thead>\n",
       "    <tr style=\"text-align: right;\">\n",
       "      <th></th>\n",
       "      <th>county</th>\n",
       "      <th>community</th>\n",
       "      <th>closed_loss</th>\n",
       "      <th>closed_loss_percent_total</th>\n",
       "    </tr>\n",
       "  </thead>\n",
       "  <tbody>\n",
       "    <tr>\n",
       "      <th>13635</th>\n",
       "      <td>HARRIS COUNTY</td>\n",
       "      <td>HOUSTON, CITY OF</td>\n",
       "      <td>45059.00</td>\n",
       "      <td>0.21</td>\n",
       "    </tr>\n",
       "    <tr>\n",
       "      <th>13632</th>\n",
       "      <td>HARRIS COUNTY</td>\n",
       "      <td>HARRIS COUNTY*</td>\n",
       "      <td>26988.00</td>\n",
       "      <td>0.12</td>\n",
       "    </tr>\n",
       "    <tr>\n",
       "      <th>13573</th>\n",
       "      <td>GALVESTON COUNTY</td>\n",
       "      <td>GALVESTON COUNTY*</td>\n",
       "      <td>14203.00</td>\n",
       "      <td>0.07</td>\n",
       "    </tr>\n",
       "    <tr>\n",
       "      <th>13574</th>\n",
       "      <td>GALVESTON COUNTY</td>\n",
       "      <td>GALVESTON, CITY OF</td>\n",
       "      <td>14098.00</td>\n",
       "      <td>0.07</td>\n",
       "    </tr>\n",
       "    <tr>\n",
       "      <th>13870</th>\n",
       "      <td>MONTGOMERY COUNTY</td>\n",
       "      <td>MONTGOMERY COUNTY*</td>\n",
       "      <td>6446.00</td>\n",
       "      <td>0.03</td>\n",
       "    </tr>\n",
       "    <tr>\n",
       "      <th>13307</th>\n",
       "      <td>BRAZORIA COUNTY</td>\n",
       "      <td>BRAZORIA COUNTY *</td>\n",
       "      <td>5639.00</td>\n",
       "      <td>0.03</td>\n",
       "    </tr>\n",
       "  </tbody>\n",
       "</table>\n",
       "</div>"
      ],
      "text/plain": [
       "                  county                         community  closed_loss  \\\n",
       "13635      HARRIS COUNTY  HOUSTON, CITY OF                     45059.00   \n",
       "13632      HARRIS COUNTY  HARRIS COUNTY*                       26988.00   \n",
       "13573   GALVESTON COUNTY  GALVESTON COUNTY*                    14203.00   \n",
       "13574   GALVESTON COUNTY  GALVESTON, CITY OF                   14098.00   \n",
       "13870  MONTGOMERY COUNTY  MONTGOMERY COUNTY*                    6446.00   \n",
       "13307    BRAZORIA COUNTY  BRAZORIA COUNTY *                     5639.00   \n",
       "\n",
       "       closed_loss_percent_total  \n",
       "13635                       0.21  \n",
       "13632                       0.12  \n",
       "13573                       0.07  \n",
       "13574                       0.07  \n",
       "13870                       0.03  \n",
       "13307                       0.03  "
      ]
     },
     "execution_count": 158,
     "metadata": {},
     "output_type": "execute_result"
    }
   ],
   "source": [
    "sorted_tx_percent_df[:6]"
   ]
  },
  {
   "cell_type": "markdown",
   "metadata": {},
   "source": [
    "### Discussion Questions"
   ]
  },
  {
   "cell_type": "markdown",
   "metadata": {},
   "source": [
    "Now that we done some initial exploration of our data, what information that we gathered, do you think might be most useful going forward?\n",
    "\n",
    "Is there additional data that you would like to collect to answer additional questions?"
   ]
  },
  {
   "cell_type": "markdown",
   "metadata": {},
   "source": [
    "### Summary"
   ]
  },
  {
   "cell_type": "markdown",
   "metadata": {},
   "source": [
    "In this lesson, we explored FEMA claims in Texas.  As we saw our data, was heavily skewed to the right leading us to both explore the majority of our counties in the interquartile range, as well as the majority of our claims, which existed in just a few counties."
   ]
  },
  {
   "cell_type": "markdown",
   "metadata": {},
   "source": [
    "### Resources"
   ]
  },
  {
   "cell_type": "markdown",
   "metadata": {},
   "source": [
    "[WP dashboard](https://wpinvestigative.github.io/fema_claims/)"
   ]
  }
 ],
 "metadata": {
  "kernelspec": {
   "display_name": "Python 3",
   "language": "python",
   "name": "python3"
  },
  "language_info": {
   "codemirror_mode": {
    "name": "ipython",
    "version": 3
   },
   "file_extension": ".py",
   "mimetype": "text/x-python",
   "name": "python",
   "nbconvert_exporter": "python",
   "pygments_lexer": "ipython3",
   "version": "3.7.4"
  }
 },
 "nbformat": 4,
 "nbformat_minor": 4
}
