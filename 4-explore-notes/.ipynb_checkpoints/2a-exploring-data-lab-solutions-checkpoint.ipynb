{
 "cells": [
  {
   "cell_type": "markdown",
   "metadata": {},
   "source": [
    "# Exploring Data with Fema"
   ]
  },
  {
   "cell_type": "markdown",
   "metadata": {},
   "source": [
    "### Introduction"
   ]
  },
  {
   "cell_type": "markdown",
   "metadata": {},
   "source": [
    "In this lesson, we'll look at FEMA claims data gathered for the [Washington Post's article on Houston Flooding](https://www.washingtonpost.com/graphics/2017/investigations/harvey-urban-planning/) which they made available [here](https://github.com/wpinvestigative/fema_claims).  Let's load up the data and see what we have."
   ]
  },
  {
   "cell_type": "markdown",
   "metadata": {},
   "source": [
    "### Loading the Data"
   ]
  },
  {
   "cell_type": "code",
   "execution_count": null,
   "metadata": {},
   "outputs": [],
   "source": [
    "import pandas as pd \n",
    "url = \"https://raw.githubusercontent.com/jigsawlabs-student/exploring-pandas/master/formatted_claims_all.txt\"\n",
    "df = pd.read_csv(url, sep='\\t')"
   ]
  },
  {
   "cell_type": "markdown",
   "metadata": {},
   "source": [
    "Use head to take a look at the first five rows of data."
   ]
  },
  {
   "cell_type": "code",
   "execution_count": 26,
   "metadata": {},
   "outputs": [
    {
     "data": {
      "text/html": [
       "<div>\n",
       "<style scoped>\n",
       "    .dataframe tbody tr th:only-of-type {\n",
       "        vertical-align: middle;\n",
       "    }\n",
       "\n",
       "    .dataframe tbody tr th {\n",
       "        vertical-align: top;\n",
       "    }\n",
       "\n",
       "    .dataframe thead th {\n",
       "        text-align: right;\n",
       "    }\n",
       "</style>\n",
       "<table border=\"1\" class=\"dataframe\">\n",
       "  <thead>\n",
       "    <tr style=\"text-align: right;\">\n",
       "      <th></th>\n",
       "      <th>state</th>\n",
       "      <th>county</th>\n",
       "      <th>community</th>\n",
       "      <th>total_loss</th>\n",
       "      <th>closed_loss</th>\n",
       "      <th>open_loss</th>\n",
       "      <th>cwop_loss</th>\n",
       "      <th>total_pay</th>\n",
       "    </tr>\n",
       "  </thead>\n",
       "  <tbody>\n",
       "    <tr>\n",
       "      <th>0</th>\n",
       "      <td>ALABAMA</td>\n",
       "      <td>AUTAUGA COUNTY</td>\n",
       "      <td>AUTAUGA COUNTY *</td>\n",
       "      <td>33.0</td>\n",
       "      <td>23.0</td>\n",
       "      <td>2.0</td>\n",
       "      <td>8.0</td>\n",
       "      <td>518669.96</td>\n",
       "    </tr>\n",
       "    <tr>\n",
       "      <th>1</th>\n",
       "      <td>ALABAMA</td>\n",
       "      <td>AUTAUGA COUNTY</td>\n",
       "      <td>AUTAUGAVILLE, TOWN OF</td>\n",
       "      <td>1.0</td>\n",
       "      <td>0.0</td>\n",
       "      <td>0.0</td>\n",
       "      <td>1.0</td>\n",
       "      <td>0.00</td>\n",
       "    </tr>\n",
       "    <tr>\n",
       "      <th>2</th>\n",
       "      <td>ALABAMA</td>\n",
       "      <td>AUTAUGA COUNTY</td>\n",
       "      <td>MILLBROOK, CITY OF</td>\n",
       "      <td>9.0</td>\n",
       "      <td>6.0</td>\n",
       "      <td>0.0</td>\n",
       "      <td>3.0</td>\n",
       "      <td>74633.64</td>\n",
       "    </tr>\n",
       "    <tr>\n",
       "      <th>3</th>\n",
       "      <td>ALABAMA</td>\n",
       "      <td>AUTAUGA COUNTY</td>\n",
       "      <td>MONTGOMERY, CITY OF</td>\n",
       "      <td>295.0</td>\n",
       "      <td>195.0</td>\n",
       "      <td>6.0</td>\n",
       "      <td>94.0</td>\n",
       "      <td>4113018.78</td>\n",
       "    </tr>\n",
       "    <tr>\n",
       "      <th>4</th>\n",
       "      <td>ALABAMA</td>\n",
       "      <td>AUTAUGA COUNTY</td>\n",
       "      <td>PRATTVILLE, CITY OF</td>\n",
       "      <td>45.0</td>\n",
       "      <td>35.0</td>\n",
       "      <td>3.0</td>\n",
       "      <td>7.0</td>\n",
       "      <td>700387.26</td>\n",
       "    </tr>\n",
       "  </tbody>\n",
       "</table>\n",
       "</div>"
      ],
      "text/plain": [
       "     state          county                         community  total_loss  \\\n",
       "0  ALABAMA  AUTAUGA COUNTY  AUTAUGA COUNTY *                        33.0   \n",
       "1  ALABAMA  AUTAUGA COUNTY  AUTAUGAVILLE, TOWN OF                    1.0   \n",
       "2  ALABAMA  AUTAUGA COUNTY  MILLBROOK, CITY OF                       9.0   \n",
       "3  ALABAMA  AUTAUGA COUNTY  MONTGOMERY, CITY OF                    295.0   \n",
       "4  ALABAMA  AUTAUGA COUNTY  PRATTVILLE, CITY OF                     45.0   \n",
       "\n",
       "   closed_loss  open_loss  cwop_loss   total_pay  \n",
       "0         23.0        2.0        8.0   518669.96  \n",
       "1          0.0        0.0        1.0        0.00  \n",
       "2          6.0        0.0        3.0    74633.64  \n",
       "3        195.0        6.0       94.0  4113018.78  \n",
       "4         35.0        3.0        7.0   700387.26  "
      ]
     },
     "execution_count": 26,
     "metadata": {},
     "output_type": "execute_result"
    }
   ],
   "source": [
    "first_five = df.head(5)\n",
    "first_five\n",
    "\n",
    "# \tstate\tcounty\tcommunity\ttotal_loss\tclosed_loss\topen_loss\tcwop_loss\ttotal_pay\n",
    "# 0\tALABAMA\tAUTAUGA COUNTY\tAUTAUGA COUNTY *\t33.0\t23.0\t2.0\t8.0\t518669.96\n",
    "# 1\tALABAMA\tAUTAUGA COUNTY\tAUTAUGAVILLE, TOWN OF\t1.0\t0.0\t0.0\t1.0\t0.00\n",
    "# 2\tALABAMA\tAUTAUGA COUNTY\tMILLBROOK, CITY OF\t9.0\t6.0\t0.0\t3.0\t74633.64\n",
    "# 3\tALABAMA\tAUTAUGA COUNTY\tMONTGOMERY, CITY OF\t295.0\t195.0\t6.0\t94.0\t4113018.78\n",
    "# 4\tALABAMA\tAUTAUGA COUNTY\tPRATTVILLE, CITY OF\t45.0\t35.0\t3.0\t7.0\t700387.26"
   ]
  },
  {
   "cell_type": "markdown",
   "metadata": {},
   "source": [
    "Let's try to get a sense of what these loss and pay columns mean.  A quick Google search takes us to [the following data dictionary](https://www.fema.gov/data-definitions-claim-information-state-and-policy-information-state)."
   ]
  },
  {
   "cell_type": "markdown",
   "metadata": {},
   "source": [
    "<img src=\"./data-dictionary-fema.png\" width=\"50%\">"
   ]
  },
  {
   "cell_type": "markdown",
   "metadata": {},
   "source": [
    "### Reducing our Data"
   ]
  },
  {
   "cell_type": "markdown",
   "metadata": {},
   "source": [
    "So it looks like the data in the total loss column is a sum of the other loss columns.  Let's confirm that."
   ]
  },
  {
   "cell_type": "markdown",
   "metadata": {},
   "source": [
    "> Find a dataframe (or a series) selecting all of the rows where they are not equal."
   ]
  },
  {
   "cell_type": "code",
   "execution_count": 13,
   "metadata": {},
   "outputs": [
    {
     "data": {
      "text/plain": [
       "(56, 3)"
      ]
     },
     "execution_count": 13,
     "metadata": {},
     "output_type": "execute_result"
    }
   ],
   "source": [
    "loss_cols = ['closed_loss', 'open_loss', 'cwop_loss']\n",
    "df_loss = df[loss_cols]\n",
    "\n",
    "df_loss[~(df_loss.sum(axis = 1) == df['total_loss'])].shape\n",
    "# (56, 3)"
   ]
  },
  {
   "cell_type": "markdown",
   "metadata": {},
   "source": [
    "Now let's look at the entire dataset to see what portion of these columns are not equal."
   ]
  },
  {
   "cell_type": "code",
   "execution_count": 14,
   "metadata": {},
   "outputs": [
    {
     "data": {
      "text/plain": [
       "(15533, 8)"
      ]
     },
     "execution_count": 14,
     "metadata": {},
     "output_type": "execute_result"
    }
   ],
   "source": [
    "df.shape"
   ]
  },
  {
   "cell_type": "markdown",
   "metadata": {},
   "source": [
    "It looks like the total loss column is, as the kids say, [extra](https://www.urbandictionary.com/define.php?term=extra). Let's get rid of it."
   ]
  },
  {
   "cell_type": "code",
   "execution_count": 15,
   "metadata": {},
   "outputs": [
    {
     "data": {
      "text/plain": [
       "Index(['state', 'county', 'community', 'closed_loss', 'open_loss', 'cwop_loss',\n",
       "       'total_pay'],\n",
       "      dtype='object')"
      ]
     },
     "execution_count": 15,
     "metadata": {},
     "output_type": "execute_result"
    }
   ],
   "source": [
    "reduced_df = df.drop('total_loss', axis = 1)\n",
    "reduced_df.columns\n",
    "# Index(['state', 'county', 'community', 'closed_loss', 'open_loss', 'cwop_loss',\n",
    "#        'total_pay'],"
   ]
  },
  {
   "cell_type": "markdown",
   "metadata": {},
   "source": [
    "Now let's take a look at the missing data.  Let's get a count of the missing values across the columns."
   ]
  },
  {
   "cell_type": "code",
   "execution_count": 17,
   "metadata": {},
   "outputs": [
    {
     "data": {
      "text/plain": [
       "state           0\n",
       "county          0\n",
       "community       0\n",
       "closed_loss    56\n",
       "open_loss      56\n",
       "cwop_loss      56\n",
       "total_pay      56\n",
       "dtype: int64"
      ]
     },
     "execution_count": 17,
     "metadata": {},
     "output_type": "execute_result"
    }
   ],
   "source": [
    "reduced_df.isna().sum()\n",
    "\n",
    "# state           0\n",
    "# county          0\n",
    "# community       0\n",
    "# closed_loss    56\n",
    "# open_loss      56\n",
    "# cwop_loss      56\n",
    "# total_pay      56"
   ]
  },
  {
   "cell_type": "markdown",
   "metadata": {},
   "source": [
    "It looks like when one column is missing, the rest are also missing.  Let's confirm this.  Select all of the rows where just `closed_loss` is `na`."
   ]
  },
  {
   "cell_type": "code",
   "execution_count": 19,
   "metadata": {},
   "outputs": [
    {
     "data": {
      "text/plain": [
       "(56, 7)"
      ]
     },
     "execution_count": 19,
     "metadata": {},
     "output_type": "execute_result"
    }
   ],
   "source": [
    "closed_loss_na = reduced_df[reduced_df['closed_loss'].isna()]\n",
    "\n",
    "closed_loss_na.shape\n",
    "# (56, 7)"
   ]
  },
  {
   "cell_type": "markdown",
   "metadata": {},
   "source": [
    "Let's take a look."
   ]
  },
  {
   "cell_type": "code",
   "execution_count": 20,
   "metadata": {},
   "outputs": [
    {
     "data": {
      "text/html": [
       "<div>\n",
       "<style scoped>\n",
       "    .dataframe tbody tr th:only-of-type {\n",
       "        vertical-align: middle;\n",
       "    }\n",
       "\n",
       "    .dataframe tbody tr th {\n",
       "        vertical-align: top;\n",
       "    }\n",
       "\n",
       "    .dataframe thead th {\n",
       "        text-align: right;\n",
       "    }\n",
       "</style>\n",
       "<table border=\"1\" class=\"dataframe\">\n",
       "  <thead>\n",
       "    <tr style=\"text-align: right;\">\n",
       "      <th></th>\n",
       "      <th>state</th>\n",
       "      <th>county</th>\n",
       "      <th>community</th>\n",
       "      <th>closed_loss</th>\n",
       "      <th>open_loss</th>\n",
       "      <th>cwop_loss</th>\n",
       "      <th>total_pay</th>\n",
       "    </tr>\n",
       "  </thead>\n",
       "  <tbody>\n",
       "    <tr>\n",
       "      <th>242</th>\n",
       "      <td>ALASKA</td>\n",
       "      <td>--------------------------------</td>\n",
       "      <td>--------------------------------</td>\n",
       "      <td>NaN</td>\n",
       "      <td>NaN</td>\n",
       "      <td>NaN</td>\n",
       "      <td>NaN</td>\n",
       "    </tr>\n",
       "    <tr>\n",
       "      <th>264</th>\n",
       "      <td>AMERICAN SAMOA</td>\n",
       "      <td>--------------------------------</td>\n",
       "      <td>--------------------------------</td>\n",
       "      <td>NaN</td>\n",
       "      <td>NaN</td>\n",
       "      <td>NaN</td>\n",
       "      <td>NaN</td>\n",
       "    </tr>\n",
       "    <tr>\n",
       "      <th>266</th>\n",
       "      <td>ARIZONA</td>\n",
       "      <td>--------------------------------</td>\n",
       "      <td>--------------------------------</td>\n",
       "      <td>NaN</td>\n",
       "      <td>NaN</td>\n",
       "      <td>NaN</td>\n",
       "      <td>NaN</td>\n",
       "    </tr>\n",
       "  </tbody>\n",
       "</table>\n",
       "</div>"
      ],
      "text/plain": [
       "              state                            county  \\\n",
       "242          ALASKA  --------------------------------   \n",
       "264  AMERICAN SAMOA  --------------------------------   \n",
       "266         ARIZONA  --------------------------------   \n",
       "\n",
       "                            community  closed_loss  open_loss  cwop_loss  \\\n",
       "242  --------------------------------          NaN        NaN        NaN   \n",
       "264  --------------------------------          NaN        NaN        NaN   \n",
       "266  --------------------------------          NaN        NaN        NaN   \n",
       "\n",
       "     total_pay  \n",
       "242        NaN  \n",
       "264        NaN  \n",
       "266        NaN  "
      ]
     },
     "execution_count": 20,
     "metadata": {},
     "output_type": "execute_result"
    }
   ],
   "source": [
    "closed_loss_na[:3]"
   ]
  },
  {
   "cell_type": "markdown",
   "metadata": {},
   "source": [
    "Ok, if we look across all of the rows, we can see that each row is completely blank.  It appears that this may be simply a list of the states and territories."
   ]
  },
  {
   "cell_type": "code",
   "execution_count": 22,
   "metadata": {},
   "outputs": [
    {
     "data": {
      "text/plain": [
       "242            ALASKA\n",
       "264    AMERICAN SAMOA\n",
       "266           ARIZONA\n",
       "355          ARKANSAS\n",
       "624        CALIFORNIA\n",
       "Name: state, dtype: object"
      ]
     },
     "execution_count": 22,
     "metadata": {},
     "output_type": "execute_result"
    }
   ],
   "source": [
    "closed_loss_na.state[:5]"
   ]
  },
  {
   "cell_type": "markdown",
   "metadata": {},
   "source": [
    "Ok, it seems safe to drop each of these rows.  Remove the rows that have missing data and assign the result to the variable `reduced_no_missing`."
   ]
  },
  {
   "cell_type": "code",
   "execution_count": 25,
   "metadata": {},
   "outputs": [
    {
     "data": {
      "text/plain": [
       "(15477, 7)"
      ]
     },
     "execution_count": 25,
     "metadata": {},
     "output_type": "execute_result"
    }
   ],
   "source": [
    "reduced_no_missing = reduced_df.dropna()\n",
    "\n",
    "reduced_no_missing.shape\n",
    "\n",
    "# (15477, 7)"
   ]
  },
  {
   "cell_type": "markdown",
   "metadata": {},
   "source": [
    "### Exploring Data"
   ]
  },
  {
   "cell_type": "markdown",
   "metadata": {},
   "source": [
    "Now that we've cleaned up some of our data, let's do a check to see that our data is of the correct type, before we attempt to perform any analysis."
   ]
  },
  {
   "cell_type": "code",
   "execution_count": 27,
   "metadata": {},
   "outputs": [
    {
     "data": {
      "text/plain": [
       "state           object\n",
       "county          object\n",
       "community       object\n",
       "closed_loss    float64\n",
       "open_loss      float64\n",
       "cwop_loss      float64\n",
       "total_pay      float64\n",
       "dtype: object"
      ]
     },
     "execution_count": 27,
     "metadata": {},
     "output_type": "execute_result"
    }
   ],
   "source": [
    "reduced_no_missing.dtypes\n",
    "\n",
    "# state           object\n",
    "# county          object\n",
    "# community       object\n",
    "# closed_loss    float64\n",
    "# open_loss      float64\n",
    "# cwop_loss      float64\n",
    "# total_pay      float64\n",
    "# dtype: object\n"
   ]
  },
  {
   "cell_type": "markdown",
   "metadata": {},
   "source": [
    "Ok, looks good."
   ]
  },
  {
   "cell_type": "markdown",
   "metadata": {},
   "source": [
    "Now let's get a sense of some of our data.  We have data from all fifty states, but let's just focus on Texas for now."
   ]
  },
  {
   "cell_type": "code",
   "execution_count": 30,
   "metadata": {},
   "outputs": [],
   "source": [
    "texas_df = reduced_no_missing[reduced_no_missing['state'] == 'TEXAS']"
   ]
  },
  {
   "cell_type": "code",
   "execution_count": 31,
   "metadata": {},
   "outputs": [
    {
     "data": {
      "text/plain": [
       "(896, 7)"
      ]
     },
     "execution_count": 31,
     "metadata": {},
     "output_type": "execute_result"
    }
   ],
   "source": [
    "texas_df.shape"
   ]
  },
  {
   "cell_type": "markdown",
   "metadata": {},
   "source": [
    "This seems a little more manageable."
   ]
  },
  {
   "cell_type": "markdown",
   "metadata": {},
   "source": [
    "Ok, let's try creating a histogram of all of our numeric columns."
   ]
  },
  {
   "cell_type": "code",
   "execution_count": 33,
   "metadata": {},
   "outputs": [
    {
     "data": {
      "text/plain": [
       "array([[<matplotlib.axes._subplots.AxesSubplot object at 0x11f28c790>,\n",
       "        <matplotlib.axes._subplots.AxesSubplot object at 0x11f2acc10>],\n",
       "       [<matplotlib.axes._subplots.AxesSubplot object at 0x11f351ed0>,\n",
       "        <matplotlib.axes._subplots.AxesSubplot object at 0x11f36fb90>]],\n",
       "      dtype=object)"
      ]
     },
     "execution_count": 33,
     "metadata": {},
     "output_type": "execute_result"
    },
    {
     "data": {
      "image/png": "[encoded data removed]",
      "text/plain": [
       "<Figure size 432x288 with 4 Axes>"
      ]
     },
     "metadata": {
      "needs_background": "light"
     },
     "output_type": "display_data"
    }
   ],
   "source": [
    "texas_df.hist()"
   ]
  },
  {
   "cell_type": "markdown",
   "metadata": {},
   "source": [
    "> Answer <img src=\"./hist-tx-fema.png\" width=\"50%\">"
   ]
  },
  {
   "cell_type": "markdown",
   "metadata": {},
   "source": [
    "Hmm, not very useful.  It looks like outliers are expanding the range of our data.  Let's choose just the `closed_loss` column, which remember represents a count of the losses that have been paid.  Set an range on the x values at 10000, with 500 bins.  Label. the x and y axes, and assign a title."
   ]
  },
  {
   "cell_type": "code",
   "execution_count": 47,
   "metadata": {},
   "outputs": [
    {
     "data": {
      "text/plain": [
       "[Text(0, 0.5, 'count'), Text(0.5, 0, 'no. claims')]"
      ]
     },
     "execution_count": 47,
     "metadata": {},
     "output_type": "execute_result"
    },
    {
     "data": {
      "image/png": "[encoded data removed]",
      "text/plain": [
       "<Figure size 432x288 with 1 Axes>"
      ]
     },
     "metadata": {
      "needs_background": "light"
     },
     "output_type": "display_data"
    }
   ],
   "source": [
    "ax = texas_df['closed_loss'].plot(kind = 'hist', xlim = [0, 10000], \n",
    "                                  bins = 500,\n",
    "                                  title = 'TX closed claims by county')\n",
    "ax.set(xlabel = 'no. claims', ylabel = 'count')"
   ]
  },
  {
   "cell_type": "markdown",
   "metadata": {},
   "source": [
    "> Answer: <img src=\"./tx-closed-claims-style.png\" width=\"50%\">"
   ]
  },
  {
   "cell_type": "markdown",
   "metadata": {},
   "source": [
    "Ok, perhaps a little better, but not great.  Let's use `describe` to see if it can help us set a range for our data."
   ]
  },
  {
   "cell_type": "code",
   "execution_count": 53,
   "metadata": {},
   "outputs": [
    {
     "data": {
      "text/plain": [
       "count      896.000000\n",
       "mean       241.588170\n",
       "std       1922.330777\n",
       "min          0.000000\n",
       "25%          2.000000\n",
       "50%         10.500000\n",
       "75%         59.250000\n",
       "max      45059.000000\n",
       "Name: closed_loss, dtype: float64"
      ]
     },
     "execution_count": 53,
     "metadata": {},
     "output_type": "execute_result"
    }
   ],
   "source": [
    "C.describe()\n",
    "\n",
    "# count      896.000000\n",
    "# mean       241.588170\n",
    "# std       1922.330777\n",
    "# min          0.000000\n",
    "# 25%          2.000000\n",
    "# 50%         10.500000\n",
    "# 75%         59.250000\n",
    "# max      45059.000000"
   ]
  },
  {
   "cell_type": "markdown",
   "metadata": {},
   "source": [
    "Ok, so it looks like most of our data is between 2 and 59 claims, and there's a max of 45000 claims."
   ]
  },
  {
   "cell_type": "markdown",
   "metadata": {},
   "source": [
    "Let's get an even more detailed sense of how our data breaks down by looking at value_counts, and selecting just the top five values."
   ]
  },
  {
   "cell_type": "code",
   "execution_count": 80,
   "metadata": {},
   "outputs": [
    {
     "data": {
      "text/plain": [
       "1.0    101\n",
       "2.0     89\n",
       "4.0     53\n",
       "3.0     45\n",
       "0.0     40\n",
       "5.0     31\n",
       "Name: closed_loss, dtype: int64"
      ]
     },
     "execution_count": 80,
     "metadata": {},
     "output_type": "execute_result"
    }
   ],
   "source": [
    "texas_df['closed_loss'].value_counts()[:5]\n",
    "# 1.0    101\n",
    "# 2.0     89\n",
    "# 4.0     53\n",
    "# 3.0     45\n",
    "# 0.0     40\n",
    "# 5.0     31\n",
    "# Name: closed_loss, dtype: int64"
   ]
  },
  {
   "cell_type": "markdown",
   "metadata": {},
   "source": [
    "And we can use the `normalize` argument to get a sense of what percentage of the data we are talking about.\n",
    "\n",
    "> Select the first six rows."
   ]
  },
  {
   "cell_type": "code",
   "execution_count": 91,
   "metadata": {},
   "outputs": [
    {
     "data": {
      "text/plain": [
       "1.0    0.112723\n",
       "2.0    0.099330\n",
       "4.0    0.059152\n",
       "3.0    0.050223\n",
       "0.0    0.044643\n",
       "5.0    0.034598\n",
       "Name: closed_loss, dtype: float64"
      ]
     },
     "execution_count": 91,
     "metadata": {},
     "output_type": "execute_result"
    }
   ],
   "source": [
    "percent_of_values = texas_df['closed_loss'].value_counts(normalize = True).iloc[:6]\n",
    "percent_of_values"
   ]
  },
  {
   "cell_type": "code",
   "execution_count": 92,
   "metadata": {},
   "outputs": [
    {
     "data": {
      "text/plain": [
       "0.4006696428571429"
      ]
     },
     "execution_count": 92,
     "metadata": {},
     "output_type": "execute_result"
    }
   ],
   "source": [
    "percent_of_values.sum()"
   ]
  },
  {
   "cell_type": "markdown",
   "metadata": {},
   "source": [
    "So we can see that 40 percent of the counties had between 0 and 5 claims.\n",
    "\n",
    "> Now depending on our research, this data in itself may be interesting.  For example, this is still closed FEMA flooding claims, so perhaps this percent goes up or down over time.\n",
    "\n",
    "For now, let's focus on the data with claims above 2, the interquartile range."
   ]
  },
  {
   "cell_type": "markdown",
   "metadata": {},
   "source": [
    "Let's start by just plotting what's roughly the data roughly in the interquartile range (the range between the 25th and 75th percentile).  Here that would technically be data between 2 and 59, but let's choose data between 2 and 60."
   ]
  },
  {
   "cell_type": "markdown",
   "metadata": {},
   "source": [
    "> To do so, first select just the rows where the number of claims is between 6 and 50, and assign the resulting dataframe to `texas_iqr`."
   ]
  },
  {
   "cell_type": "code",
   "execution_count": 97,
   "metadata": {},
   "outputs": [],
   "source": [
    "texas_iqr = texas_df[(2 < texas_df['closed_loss']) & (texas_df['closed_loss'] < 60)]"
   ]
  },
  {
   "cell_type": "code",
   "execution_count": 99,
   "metadata": {},
   "outputs": [
    {
     "data": {
      "text/plain": [
       "(442, 7)"
      ]
     },
     "execution_count": 99,
     "metadata": {},
     "output_type": "execute_result"
    }
   ],
   "source": [
    "texas_iqr.shape\n",
    "# (442, 7)"
   ]
  },
  {
   "cell_type": "code",
   "execution_count": 77,
   "metadata": {},
   "outputs": [
    {
     "data": {
      "text/plain": [
       "(896, 7)"
      ]
     },
     "execution_count": 77,
     "metadata": {},
     "output_type": "execute_result"
    }
   ],
   "source": [
    "texas_df.shape"
   ]
  },
  {
   "cell_type": "markdown",
   "metadata": {},
   "source": [
    "So now we are zooming in on roughly half of our data."
   ]
  },
  {
   "cell_type": "markdown",
   "metadata": {},
   "source": [
    "Plot the closed losses, and set an x range between 4 and 60, and a y range between 0 and 35."
   ]
  },
  {
   "cell_type": "code",
   "execution_count": 106,
   "metadata": {},
   "outputs": [
    {
     "data": {
      "text/plain": [
       "[Text(0, 0.5, 'count'), Text(0.5, 0, 'no. claims')]"
      ]
     },
     "execution_count": 106,
     "metadata": {},
     "output_type": "execute_result"
    },
    {
     "data": {
      "image/png": "[encoded data removed]",
      "text/plain": [
       "<Figure size 432x288 with 1 Axes>"
      ]
     },
     "metadata": {
      "needs_background": "light"
     },
     "output_type": "display_data"
    }
   ],
   "source": [
    "ax = texas_iqr['closed_loss'].plot(kind = 'hist', xlim = [4, 60], ylim = [0, 35],\n",
    "                                   bins = 50,\n",
    "                                  title = 'TX claims IQR')\n",
    "ax.set(xlabel = 'no. claims', ylabel = 'count')"
   ]
  },
  {
   "cell_type": "markdown",
   "metadata": {},
   "source": [
    "Ok, now what be even more interesting is focusing on the counties that have the most amount of claims."
   ]
  },
  {
   "cell_type": "markdown",
   "metadata": {},
   "source": [
    "We can look at the values at the higher percentiles the `describe` method and using the percentiles method.  Set percentiles of `.85, .90, .95` and `.99`. "
   ]
  },
  {
   "cell_type": "code",
   "execution_count": 110,
   "metadata": {},
   "outputs": [
    {
     "data": {
      "text/plain": [
       "count      896.000000\n",
       "mean       241.588170\n",
       "std       1922.330777\n",
       "min          0.000000\n",
       "50%         10.500000\n",
       "85%        141.500000\n",
       "90%        292.500000\n",
       "95%        718.250000\n",
       "99%       2397.700000\n",
       "max      45059.000000\n",
       "Name: closed_loss, dtype: float64"
      ]
     },
     "execution_count": 110,
     "metadata": {},
     "output_type": "execute_result"
    }
   ],
   "source": [
    "texas_df['closed_loss'].describe(percentiles = [.85, .90, .95, .99])"
   ]
  },
  {
   "cell_type": "markdown",
   "metadata": {},
   "source": [
    "Now notice that there's even a huge gap between data in our 99th percentile, and our county with the maximum number of claims."
   ]
  },
  {
   "cell_type": "markdown",
   "metadata": {},
   "source": [
    "Let's look at some of the counties with some of the highest number of claims.  To do so, use the `sort_by` method in pandas."
   ]
  },
  {
   "cell_type": "code",
   "execution_count": 126,
   "metadata": {},
   "outputs": [
    {
     "data": {
      "text/html": [
       "<div>\n",
       "<style scoped>\n",
       "    .dataframe tbody tr th:only-of-type {\n",
       "        vertical-align: middle;\n",
       "    }\n",
       "\n",
       "    .dataframe tbody tr th {\n",
       "        vertical-align: top;\n",
       "    }\n",
       "\n",
       "    .dataframe thead th {\n",
       "        text-align: right;\n",
       "    }\n",
       "</style>\n",
       "<table border=\"1\" class=\"dataframe\">\n",
       "  <thead>\n",
       "    <tr style=\"text-align: right;\">\n",
       "      <th></th>\n",
       "      <th>county</th>\n",
       "      <th>community</th>\n",
       "      <th>closed_loss</th>\n",
       "    </tr>\n",
       "  </thead>\n",
       "  <tbody>\n",
       "    <tr>\n",
       "      <th>13635</th>\n",
       "      <td>HARRIS COUNTY</td>\n",
       "      <td>HOUSTON, CITY OF</td>\n",
       "      <td>45059.00</td>\n",
       "    </tr>\n",
       "    <tr>\n",
       "      <th>13632</th>\n",
       "      <td>HARRIS COUNTY</td>\n",
       "      <td>HARRIS COUNTY*</td>\n",
       "      <td>26988.00</td>\n",
       "    </tr>\n",
       "    <tr>\n",
       "      <th>13573</th>\n",
       "      <td>GALVESTON COUNTY</td>\n",
       "      <td>GALVESTON COUNTY*</td>\n",
       "      <td>14203.00</td>\n",
       "    </tr>\n",
       "    <tr>\n",
       "      <th>13574</th>\n",
       "      <td>GALVESTON COUNTY</td>\n",
       "      <td>GALVESTON, CITY OF</td>\n",
       "      <td>14098.00</td>\n",
       "    </tr>\n",
       "    <tr>\n",
       "      <th>13870</th>\n",
       "      <td>MONTGOMERY COUNTY</td>\n",
       "      <td>MONTGOMERY COUNTY*</td>\n",
       "      <td>6446.00</td>\n",
       "    </tr>\n",
       "  </tbody>\n",
       "</table>\n",
       "</div>"
      ],
      "text/plain": [
       "                  county                         community  closed_loss\n",
       "13635      HARRIS COUNTY  HOUSTON, CITY OF                     45059.00\n",
       "13632      HARRIS COUNTY  HARRIS COUNTY*                       26988.00\n",
       "13573   GALVESTON COUNTY  GALVESTON COUNTY*                    14203.00\n",
       "13574   GALVESTON COUNTY  GALVESTON, CITY OF                   14098.00\n",
       "13870  MONTGOMERY COUNTY  MONTGOMERY COUNTY*                    6446.00"
      ]
     },
     "execution_count": 126,
     "metadata": {},
     "output_type": "execute_result"
    }
   ],
   "source": [
    "sorted_tx = texas_df.sort_values(by = 'closed_loss', ascending = False)\n",
    "\n",
    "sorted_tx[['county', 'community', 'closed_loss']][:5]\n",
    "\n",
    "# \tcounty\tcommunity\tclosed_loss\n",
    "# 13635\tHARRIS COUNTY\tHOUSTON, CITY OF\t45059.00\n",
    "# 13632\tHARRIS COUNTY\tHARRIS COUNTY*\t26988.00\n",
    "# 13573\tGALVESTON COUNTY\tGALVESTON COUNTY*\t14203.00\n",
    "# 13574\tGALVESTON COUNTY\tGALVESTON, CITY OF\t14098.00\n",
    "# 13870\tMONTGOMERY COUNTY\tMONTGOMERY COUNTY*\t6446.00"
   ]
  },
  {
   "cell_type": "markdown",
   "metadata": {},
   "source": [
    "> If you're like me, scientific notation can be pretty confusing.  We can get rid of it with the following."
   ]
  },
  {
   "cell_type": "code",
   "execution_count": 119,
   "metadata": {},
   "outputs": [],
   "source": [
    "pd.options.display.float_format = '{:.2f}'.format"
   ]
  },
  {
   "cell_type": "code",
   "execution_count": 142,
   "metadata": {},
   "outputs": [
    {
     "data": {
      "text/html": [
       "<div>\n",
       "<style scoped>\n",
       "    .dataframe tbody tr th:only-of-type {\n",
       "        vertical-align: middle;\n",
       "    }\n",
       "\n",
       "    .dataframe tbody tr th {\n",
       "        vertical-align: top;\n",
       "    }\n",
       "\n",
       "    .dataframe thead th {\n",
       "        text-align: right;\n",
       "    }\n",
       "</style>\n",
       "<table border=\"1\" class=\"dataframe\">\n",
       "  <thead>\n",
       "    <tr style=\"text-align: right;\">\n",
       "      <th></th>\n",
       "      <th>county</th>\n",
       "      <th>community</th>\n",
       "      <th>closed_loss</th>\n",
       "    </tr>\n",
       "  </thead>\n",
       "  <tbody>\n",
       "    <tr>\n",
       "      <th>13635</th>\n",
       "      <td>HARRIS COUNTY</td>\n",
       "      <td>HOUSTON, CITY OF</td>\n",
       "      <td>45059.00</td>\n",
       "    </tr>\n",
       "    <tr>\n",
       "      <th>13632</th>\n",
       "      <td>HARRIS COUNTY</td>\n",
       "      <td>HARRIS COUNTY*</td>\n",
       "      <td>26988.00</td>\n",
       "    </tr>\n",
       "    <tr>\n",
       "      <th>13573</th>\n",
       "      <td>GALVESTON COUNTY</td>\n",
       "      <td>GALVESTON COUNTY*</td>\n",
       "      <td>14203.00</td>\n",
       "    </tr>\n",
       "    <tr>\n",
       "      <th>13574</th>\n",
       "      <td>GALVESTON COUNTY</td>\n",
       "      <td>GALVESTON, CITY OF</td>\n",
       "      <td>14098.00</td>\n",
       "    </tr>\n",
       "  </tbody>\n",
       "</table>\n",
       "</div>"
      ],
      "text/plain": [
       "                 county                         community  closed_loss\n",
       "13635     HARRIS COUNTY  HOUSTON, CITY OF                     45059.00\n",
       "13632     HARRIS COUNTY  HARRIS COUNTY*                       26988.00\n",
       "13573  GALVESTON COUNTY  GALVESTON COUNTY*                    14203.00\n",
       "13574  GALVESTON COUNTY  GALVESTON, CITY OF                   14098.00"
      ]
     },
     "execution_count": 142,
     "metadata": {},
     "output_type": "execute_result"
    }
   ],
   "source": [
    "sorted_tx_reduced = sorted_tx[['county', 'community', 'closed_loss']]\n",
    "sorted_tx_reduced[:4]"
   ]
  },
  {
   "cell_type": "markdown",
   "metadata": {},
   "source": [
    "Notice that we see both counties and cities for Harris and Galveston.  We also see similar claim numbers.  It could be that the county encompasses the city.  \n",
    "\n",
    "> We probably should look into what those asterisks mean."
   ]
  },
  {
   "cell_type": "markdown",
   "metadata": {},
   "source": [
    "Let's keep going though.  Let's create a column which captures the percentage of the total closed losses for each county."
   ]
  },
  {
   "cell_type": "code",
   "execution_count": 144,
   "metadata": {},
   "outputs": [],
   "source": [
    "total_closed_loss = sorted_tx_reduced['closed_loss'].sum()"
   ]
  },
  {
   "cell_type": "code",
   "execution_count": 146,
   "metadata": {},
   "outputs": [
    {
     "data": {
      "text/plain": [
       "13635   0.21\n",
       "13632   0.12\n",
       "13573   0.07\n",
       "13574   0.07\n",
       "13870   0.03\n",
       "Name: closed_loss, dtype: float64"
      ]
     },
     "execution_count": 146,
     "metadata": {},
     "output_type": "execute_result"
    }
   ],
   "source": [
    "percent_closed_loss = sorted_tx_reduced['closed_loss']/total_closed_loss\n",
    "percent_closed_loss[:5]"
   ]
  },
  {
   "cell_type": "markdown",
   "metadata": {},
   "source": [
    "Here's a quick check that we did this correctly."
   ]
  },
  {
   "cell_type": "code",
   "execution_count": 147,
   "metadata": {},
   "outputs": [
    {
     "data": {
      "text/plain": [
       "1.0"
      ]
     },
     "execution_count": 147,
     "metadata": {},
     "output_type": "execute_result"
    }
   ],
   "source": [
    "percent_closed_loss.sum()\n",
    "# 1.0"
   ]
  },
  {
   "cell_type": "markdown",
   "metadata": {},
   "source": [
    "Now let's assign this column to our `sorted_tx_reduced` dataframe."
   ]
  },
  {
   "cell_type": "code",
   "execution_count": 134,
   "metadata": {},
   "outputs": [
    {
     "data": {
      "text/html": [
       "<div>\n",
       "<style scoped>\n",
       "    .dataframe tbody tr th:only-of-type {\n",
       "        vertical-align: middle;\n",
       "    }\n",
       "\n",
       "    .dataframe tbody tr th {\n",
       "        vertical-align: top;\n",
       "    }\n",
       "\n",
       "    .dataframe thead th {\n",
       "        text-align: right;\n",
       "    }\n",
       "</style>\n",
       "<table border=\"1\" class=\"dataframe\">\n",
       "  <thead>\n",
       "    <tr style=\"text-align: right;\">\n",
       "      <th></th>\n",
       "      <th>county</th>\n",
       "      <th>community</th>\n",
       "      <th>closed_loss</th>\n",
       "      <th>closed_loss_percent_total</th>\n",
       "    </tr>\n",
       "  </thead>\n",
       "  <tbody>\n",
       "    <tr>\n",
       "      <th>13635</th>\n",
       "      <td>HARRIS COUNTY</td>\n",
       "      <td>HOUSTON, CITY OF</td>\n",
       "      <td>45059.00</td>\n",
       "      <td>0.42</td>\n",
       "    </tr>\n",
       "    <tr>\n",
       "      <th>13632</th>\n",
       "      <td>HARRIS COUNTY</td>\n",
       "      <td>HARRIS COUNTY*</td>\n",
       "      <td>26988.00</td>\n",
       "      <td>0.25</td>\n",
       "    </tr>\n",
       "    <tr>\n",
       "      <th>13573</th>\n",
       "      <td>GALVESTON COUNTY</td>\n",
       "      <td>GALVESTON COUNTY*</td>\n",
       "      <td>14203.00</td>\n",
       "      <td>0.13</td>\n",
       "    </tr>\n",
       "    <tr>\n",
       "      <th>13574</th>\n",
       "      <td>GALVESTON COUNTY</td>\n",
       "      <td>GALVESTON, CITY OF</td>\n",
       "      <td>14098.00</td>\n",
       "      <td>0.13</td>\n",
       "    </tr>\n",
       "    <tr>\n",
       "      <th>13870</th>\n",
       "      <td>MONTGOMERY COUNTY</td>\n",
       "      <td>MONTGOMERY COUNTY*</td>\n",
       "      <td>6446.00</td>\n",
       "      <td>0.06</td>\n",
       "    </tr>\n",
       "  </tbody>\n",
       "</table>\n",
       "</div>"
      ],
      "text/plain": [
       "                  county                         community  closed_loss  \\\n",
       "13635      HARRIS COUNTY  HOUSTON, CITY OF                     45059.00   \n",
       "13632      HARRIS COUNTY  HARRIS COUNTY*                       26988.00   \n",
       "13573   GALVESTON COUNTY  GALVESTON COUNTY*                    14203.00   \n",
       "13574   GALVESTON COUNTY  GALVESTON, CITY OF                   14098.00   \n",
       "13870  MONTGOMERY COUNTY  MONTGOMERY COUNTY*                    6446.00   \n",
       "\n",
       "       closed_loss_percent_total  \n",
       "13635                       0.42  \n",
       "13632                       0.25  \n",
       "13573                       0.13  \n",
       "13574                       0.13  \n",
       "13870                       0.06  "
      ]
     },
     "execution_count": 134,
     "metadata": {},
     "output_type": "execute_result"
    }
   ],
   "source": [
    "sorted_tx_reduced[:5]"
   ]
  },
  {
   "cell_type": "code",
   "execution_count": 139,
   "metadata": {},
   "outputs": [
    {
     "data": {
      "text/plain": [
       "1.0"
      ]
     },
     "execution_count": 139,
     "metadata": {},
     "output_type": "execute_result"
    }
   ],
   "source": [
    "import numpy as np\n",
    "np.sum(sorted_tx_reduced['closed_loss_percent_total'][:5])"
   ]
  },
  {
   "cell_type": "code",
   "execution_count": 148,
   "metadata": {},
   "outputs": [],
   "source": [
    "sorted_tx_percent_df = sorted_tx_reduced.assign(closed_loss_percent_total = percent_closed_loss)"
   ]
  },
  {
   "cell_type": "code",
   "execution_count": 159,
   "metadata": {},
   "outputs": [
    {
     "data": {
      "text/plain": [
       "0.5194097836581771"
      ]
     },
     "execution_count": 159,
     "metadata": {},
     "output_type": "execute_result"
    }
   ],
   "source": [
    "sorted_tx_percent_df['closed_loss_percent_total'][:6].sum()\n",
    "# 0.46358"
   ]
  },
  {
   "cell_type": "markdown",
   "metadata": {},
   "source": [
    "So we can see over fifty percent of the closed losses in texas are in just 6 of Texas's 896 counties."
   ]
  },
  {
   "cell_type": "code",
   "execution_count": 158,
   "metadata": {},
   "outputs": [
    {
     "data": {
      "text/html": [
       "<div>\n",
       "<style scoped>\n",
       "    .dataframe tbody tr th:only-of-type {\n",
       "        vertical-align: middle;\n",
       "    }\n",
       "\n",
       "    .dataframe tbody tr th {\n",
       "        vertical-align: top;\n",
       "    }\n",
       "\n",
       "    .dataframe thead th {\n",
       "        text-align: right;\n",
       "    }\n",
       "</style>\n",
       "<table border=\"1\" class=\"dataframe\">\n",
       "  <thead>\n",
       "    <tr style=\"text-align: right;\">\n",
       "      <th></th>\n",
       "      <th>county</th>\n",
       "      <th>community</th>\n",
       "      <th>closed_loss</th>\n",
       "      <th>closed_loss_percent_total</th>\n",
       "    </tr>\n",
       "  </thead>\n",
       "  <tbody>\n",
       "    <tr>\n",
       "      <th>13635</th>\n",
       "      <td>HARRIS COUNTY</td>\n",
       "      <td>HOUSTON, CITY OF</td>\n",
       "      <td>45059.00</td>\n",
       "      <td>0.21</td>\n",
       "    </tr>\n",
       "    <tr>\n",
       "      <th>13632</th>\n",
       "      <td>HARRIS COUNTY</td>\n",
       "      <td>HARRIS COUNTY*</td>\n",
       "      <td>26988.00</td>\n",
       "      <td>0.12</td>\n",
       "    </tr>\n",
       "    <tr>\n",
       "      <th>13573</th>\n",
       "      <td>GALVESTON COUNTY</td>\n",
       "      <td>GALVESTON COUNTY*</td>\n",
       "      <td>14203.00</td>\n",
       "      <td>0.07</td>\n",
       "    </tr>\n",
       "    <tr>\n",
       "      <th>13574</th>\n",
       "      <td>GALVESTON COUNTY</td>\n",
       "      <td>GALVESTON, CITY OF</td>\n",
       "      <td>14098.00</td>\n",
       "      <td>0.07</td>\n",
       "    </tr>\n",
       "    <tr>\n",
       "      <th>13870</th>\n",
       "      <td>MONTGOMERY COUNTY</td>\n",
       "      <td>MONTGOMERY COUNTY*</td>\n",
       "      <td>6446.00</td>\n",
       "      <td>0.03</td>\n",
       "    </tr>\n",
       "    <tr>\n",
       "      <th>13307</th>\n",
       "      <td>BRAZORIA COUNTY</td>\n",
       "      <td>BRAZORIA COUNTY *</td>\n",
       "      <td>5639.00</td>\n",
       "      <td>0.03</td>\n",
       "    </tr>\n",
       "  </tbody>\n",
       "</table>\n",
       "</div>"
      ],
      "text/plain": [
       "                  county                         community  closed_loss  \\\n",
       "13635      HARRIS COUNTY  HOUSTON, CITY OF                     45059.00   \n",
       "13632      HARRIS COUNTY  HARRIS COUNTY*                       26988.00   \n",
       "13573   GALVESTON COUNTY  GALVESTON COUNTY*                    14203.00   \n",
       "13574   GALVESTON COUNTY  GALVESTON, CITY OF                   14098.00   \n",
       "13870  MONTGOMERY COUNTY  MONTGOMERY COUNTY*                    6446.00   \n",
       "13307    BRAZORIA COUNTY  BRAZORIA COUNTY *                     5639.00   \n",
       "\n",
       "       closed_loss_percent_total  \n",
       "13635                       0.21  \n",
       "13632                       0.12  \n",
       "13573                       0.07  \n",
       "13574                       0.07  \n",
       "13870                       0.03  \n",
       "13307                       0.03  "
      ]
     },
     "execution_count": 158,
     "metadata": {},
     "output_type": "execute_result"
    }
   ],
   "source": [
    "sorted_tx_percent_df[:6]"
   ]
  },
  {
   "cell_type": "markdown",
   "metadata": {},
   "source": [
    "### Resources"
   ]
  },
  {
   "cell_type": "markdown",
   "metadata": {},
   "source": [
    "[WP dashboard](https://wpinvestigative.github.io/fema_claims/)"
   ]
  }
 ],
 "metadata": {
  "kernelspec": {
   "display_name": "Python 3",
   "language": "python",
   "name": "python3"
  },
  "language_info": {
   "codemirror_mode": {
    "name": "ipython",
    "version": 3
   },
   "file_extension": ".py",
   "mimetype": "text/x-python",
   "name": "python",
   "nbconvert_exporter": "python",
   "pygments_lexer": "ipython3",
   "version": "3.7.4"
  }
 },
 "nbformat": 4,
 "nbformat_minor": 4
}
