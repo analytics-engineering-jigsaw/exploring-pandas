{
 "cells": [
  {
   "cell_type": "markdown",
   "metadata": {},
   "source": [
    "# Group By Lab"
   ]
  },
  {
   "cell_type": "markdown",
   "metadata": {},
   "source": [
    "### Introduction"
   ]
  },
  {
   "cell_type": "markdown",
   "metadata": {},
   "source": [
    "In this lesson, we'll continue our exploration of the FEMA dataset.  This time we'll do so using the group by and pivot functions."
   ]
  },
  {
   "cell_type": "markdown",
   "metadata": {},
   "source": [
    "### Loading our Data"
   ]
  },
  {
   "cell_type": "markdown",
   "metadata": {},
   "source": [
    "Let's begin by loading our data."
   ]
  },
  {
   "cell_type": "code",
   "execution_count": 1,
   "metadata": {},
   "outputs": [],
   "source": [
    "import pandas as pd\n",
    "url = \"https://raw.githubusercontent.com/jigsawlabs-student/exploring-pandas/master/formatted_claims_county.txt\"\n",
    "df_claims = pd.read_csv(url, sep='\\t')"
   ]
  },
  {
   "cell_type": "code",
   "execution_count": 4,
   "metadata": {},
   "outputs": [
    {
     "data": {
      "text/html": [
       "<div>\n",
       "<style scoped>\n",
       "    .dataframe tbody tr th:only-of-type {\n",
       "        vertical-align: middle;\n",
       "    }\n",
       "\n",
       "    .dataframe tbody tr th {\n",
       "        vertical-align: top;\n",
       "    }\n",
       "\n",
       "    .dataframe thead th {\n",
       "        text-align: right;\n",
       "    }\n",
       "</style>\n",
       "<table border=\"1\" class=\"dataframe\">\n",
       "  <thead>\n",
       "    <tr style=\"text-align: right;\">\n",
       "      <th></th>\n",
       "      <th>state</th>\n",
       "      <th>county</th>\n",
       "      <th>total_loss</th>\n",
       "      <th>closed_loss</th>\n",
       "      <th>open_loss</th>\n",
       "      <th>cwop_loss</th>\n",
       "      <th>total_pay</th>\n",
       "    </tr>\n",
       "  </thead>\n",
       "  <tbody>\n",
       "    <tr>\n",
       "      <th>0</th>\n",
       "      <td>ALABAMA</td>\n",
       "      <td>AUTAUGA COUNTY</td>\n",
       "      <td>383</td>\n",
       "      <td>259</td>\n",
       "      <td>11</td>\n",
       "      <td>113</td>\n",
       "      <td>5.406710e+06</td>\n",
       "    </tr>\n",
       "    <tr>\n",
       "      <th>1</th>\n",
       "      <td>ALABAMA</td>\n",
       "      <td>BALDWIN COUNTY</td>\n",
       "      <td>17628</td>\n",
       "      <td>14064</td>\n",
       "      <td>10</td>\n",
       "      <td>3554</td>\n",
       "      <td>5.507447e+08</td>\n",
       "    </tr>\n",
       "    <tr>\n",
       "      <th>2</th>\n",
       "      <td>ALABAMA</td>\n",
       "      <td>BARBOUR COUNTY</td>\n",
       "      <td>30</td>\n",
       "      <td>17</td>\n",
       "      <td>0</td>\n",
       "      <td>13</td>\n",
       "      <td>6.780529e+05</td>\n",
       "    </tr>\n",
       "  </tbody>\n",
       "</table>\n",
       "</div>"
      ],
      "text/plain": [
       "     state          county  total_loss  closed_loss  open_loss  cwop_loss  \\\n",
       "0  ALABAMA  AUTAUGA COUNTY         383          259         11        113   \n",
       "1  ALABAMA  BALDWIN COUNTY       17628        14064         10       3554   \n",
       "2  ALABAMA  BARBOUR COUNTY          30           17          0         13   \n",
       "\n",
       "      total_pay  \n",
       "0  5.406710e+06  \n",
       "1  5.507447e+08  \n",
       "2  6.780529e+05  "
      ]
     },
     "execution_count": 4,
     "metadata": {},
     "output_type": "execute_result"
    }
   ],
   "source": [
    "df_claims[:3]"
   ]
  },
  {
   "cell_type": "markdown",
   "metadata": {},
   "source": [
    "And let's remove change the formatting of our data away from scientific notation."
   ]
  },
  {
   "cell_type": "code",
   "execution_count": 5,
   "metadata": {},
   "outputs": [],
   "source": [
    "pd.options.display.float_format = '{:.2f}'.format"
   ]
  },
  {
   "cell_type": "code",
   "execution_count": 6,
   "metadata": {},
   "outputs": [
    {
     "data": {
      "text/html": [
       "<div>\n",
       "<style scoped>\n",
       "    .dataframe tbody tr th:only-of-type {\n",
       "        vertical-align: middle;\n",
       "    }\n",
       "\n",
       "    .dataframe tbody tr th {\n",
       "        vertical-align: top;\n",
       "    }\n",
       "\n",
       "    .dataframe thead th {\n",
       "        text-align: right;\n",
       "    }\n",
       "</style>\n",
       "<table border=\"1\" class=\"dataframe\">\n",
       "  <thead>\n",
       "    <tr style=\"text-align: right;\">\n",
       "      <th></th>\n",
       "      <th>state</th>\n",
       "      <th>county</th>\n",
       "      <th>total_loss</th>\n",
       "      <th>closed_loss</th>\n",
       "      <th>open_loss</th>\n",
       "      <th>cwop_loss</th>\n",
       "      <th>total_pay</th>\n",
       "    </tr>\n",
       "  </thead>\n",
       "  <tbody>\n",
       "    <tr>\n",
       "      <th>0</th>\n",
       "      <td>ALABAMA</td>\n",
       "      <td>AUTAUGA COUNTY</td>\n",
       "      <td>383</td>\n",
       "      <td>259</td>\n",
       "      <td>11</td>\n",
       "      <td>113</td>\n",
       "      <td>5406709.64</td>\n",
       "    </tr>\n",
       "    <tr>\n",
       "      <th>1</th>\n",
       "      <td>ALABAMA</td>\n",
       "      <td>BALDWIN COUNTY</td>\n",
       "      <td>17628</td>\n",
       "      <td>14064</td>\n",
       "      <td>10</td>\n",
       "      <td>3554</td>\n",
       "      <td>550744673.38</td>\n",
       "    </tr>\n",
       "    <tr>\n",
       "      <th>2</th>\n",
       "      <td>ALABAMA</td>\n",
       "      <td>BARBOUR COUNTY</td>\n",
       "      <td>30</td>\n",
       "      <td>17</td>\n",
       "      <td>0</td>\n",
       "      <td>13</td>\n",
       "      <td>678052.93</td>\n",
       "    </tr>\n",
       "  </tbody>\n",
       "</table>\n",
       "</div>"
      ],
      "text/plain": [
       "     state          county  total_loss  closed_loss  open_loss  cwop_loss  \\\n",
       "0  ALABAMA  AUTAUGA COUNTY         383          259         11        113   \n",
       "1  ALABAMA  BALDWIN COUNTY       17628        14064         10       3554   \n",
       "2  ALABAMA  BARBOUR COUNTY          30           17          0         13   \n",
       "\n",
       "     total_pay  \n",
       "0   5406709.64  \n",
       "1 550744673.38  \n",
       "2    678052.93  "
      ]
     },
     "execution_count": 6,
     "metadata": {},
     "output_type": "execute_result"
    }
   ],
   "source": [
    "df_claims[:3]"
   ]
  },
  {
   "cell_type": "markdown",
   "metadata": {},
   "source": [
    "Notice with this dataset, our missing data is removed."
   ]
  },
  {
   "cell_type": "code",
   "execution_count": 2,
   "metadata": {},
   "outputs": [],
   "source": [
    "# write code to check na values across columns\n",
    "\n",
    "# state          0\n",
    "# county         0\n",
    "# total_loss     0\n",
    "# closed_loss    0\n",
    "# open_loss      0\n",
    "# cwop_loss      0\n",
    "# total_pay      0"
   ]
  },
  {
   "cell_type": "markdown",
   "metadata": {},
   "source": [
    "And let's remove our `total_loss` column."
   ]
  },
  {
   "cell_type": "code",
   "execution_count": 3,
   "metadata": {},
   "outputs": [],
   "source": [
    "df_claims_reduced = None"
   ]
  },
  {
   "cell_type": "code",
   "execution_count": 51,
   "metadata": {},
   "outputs": [
    {
     "data": {
      "text/plain": [
       "Index(['state', 'county', 'closed_loss', 'open_loss', 'cwop_loss',\n",
       "       'total_pay'],\n",
       "      dtype='object')"
      ]
     },
     "execution_count": 51,
     "metadata": {},
     "output_type": "execute_result"
    }
   ],
   "source": [
    "df_claims_reduced.columns\n",
    "# ['state', 'county', 'closed_loss', 'open_loss', 'cwop_loss',\n",
    "#      'total_pay']"
   ]
  },
  {
   "cell_type": "markdown",
   "metadata": {},
   "source": [
    "### State Level Data"
   ]
  },
  {
   "cell_type": "markdown",
   "metadata": {},
   "source": [
    "If we would like to get state level data, we'll need to begin by grouping our data by the state, and then let's call describe to get an overview for each state."
   ]
  },
  {
   "cell_type": "code",
   "execution_count": 4,
   "metadata": {},
   "outputs": [],
   "source": [
    "state_grouped = None"
   ]
  },
  {
   "cell_type": "code",
   "execution_count": 54,
   "metadata": {},
   "outputs": [
    {
     "data": {
      "text/html": [
       "<div>\n",
       "<style scoped>\n",
       "    .dataframe tbody tr th:only-of-type {\n",
       "        vertical-align: middle;\n",
       "    }\n",
       "\n",
       "    .dataframe tbody tr th {\n",
       "        vertical-align: top;\n",
       "    }\n",
       "\n",
       "    .dataframe thead tr th {\n",
       "        text-align: left;\n",
       "    }\n",
       "\n",
       "    .dataframe thead tr:last-of-type th {\n",
       "        text-align: right;\n",
       "    }\n",
       "</style>\n",
       "<table border=\"1\" class=\"dataframe\">\n",
       "  <thead>\n",
       "    <tr>\n",
       "      <th></th>\n",
       "      <th colspan=\"8\" halign=\"left\">closed_loss</th>\n",
       "      <th colspan=\"2\" halign=\"left\">open_loss</th>\n",
       "      <th>...</th>\n",
       "      <th colspan=\"2\" halign=\"left\">cwop_loss</th>\n",
       "      <th colspan=\"8\" halign=\"left\">total_pay</th>\n",
       "    </tr>\n",
       "    <tr>\n",
       "      <th></th>\n",
       "      <th>count</th>\n",
       "      <th>mean</th>\n",
       "      <th>std</th>\n",
       "      <th>min</th>\n",
       "      <th>25%</th>\n",
       "      <th>50%</th>\n",
       "      <th>75%</th>\n",
       "      <th>max</th>\n",
       "      <th>count</th>\n",
       "      <th>mean</th>\n",
       "      <th>...</th>\n",
       "      <th>75%</th>\n",
       "      <th>max</th>\n",
       "      <th>count</th>\n",
       "      <th>mean</th>\n",
       "      <th>std</th>\n",
       "      <th>min</th>\n",
       "      <th>25%</th>\n",
       "      <th>50%</th>\n",
       "      <th>75%</th>\n",
       "      <th>max</th>\n",
       "    </tr>\n",
       "    <tr>\n",
       "      <th>state</th>\n",
       "      <th></th>\n",
       "      <th></th>\n",
       "      <th></th>\n",
       "      <th></th>\n",
       "      <th></th>\n",
       "      <th></th>\n",
       "      <th></th>\n",
       "      <th></th>\n",
       "      <th></th>\n",
       "      <th></th>\n",
       "      <th></th>\n",
       "      <th></th>\n",
       "      <th></th>\n",
       "      <th></th>\n",
       "      <th></th>\n",
       "      <th></th>\n",
       "      <th></th>\n",
       "      <th></th>\n",
       "      <th></th>\n",
       "      <th></th>\n",
       "      <th></th>\n",
       "    </tr>\n",
       "  </thead>\n",
       "  <tbody>\n",
       "    <tr>\n",
       "      <th>ALABAMA</th>\n",
       "      <td>61.00</td>\n",
       "      <td>520.75</td>\n",
       "      <td>2311.04</td>\n",
       "      <td>0.00</td>\n",
       "      <td>7.00</td>\n",
       "      <td>27.00</td>\n",
       "      <td>93.00</td>\n",
       "      <td>14064.00</td>\n",
       "      <td>61.00</td>\n",
       "      <td>0.64</td>\n",
       "      <td>...</td>\n",
       "      <td>27.00</td>\n",
       "      <td>3554.00</td>\n",
       "      <td>61.00</td>\n",
       "      <td>16771509.61</td>\n",
       "      <td>83074427.40</td>\n",
       "      <td>0.00</td>\n",
       "      <td>103893.19</td>\n",
       "      <td>506268.81</td>\n",
       "      <td>1084320.81</td>\n",
       "      <td>550744673.38</td>\n",
       "    </tr>\n",
       "    <tr>\n",
       "      <th>ALASKA</th>\n",
       "      <td>15.00</td>\n",
       "      <td>28.00</td>\n",
       "      <td>41.38</td>\n",
       "      <td>0.00</td>\n",
       "      <td>1.50</td>\n",
       "      <td>14.00</td>\n",
       "      <td>42.50</td>\n",
       "      <td>157.00</td>\n",
       "      <td>15.00</td>\n",
       "      <td>0.20</td>\n",
       "      <td>...</td>\n",
       "      <td>17.00</td>\n",
       "      <td>70.00</td>\n",
       "      <td>15.00</td>\n",
       "      <td>647465.67</td>\n",
       "      <td>988075.98</td>\n",
       "      <td>0.00</td>\n",
       "      <td>21770.76</td>\n",
       "      <td>313648.21</td>\n",
       "      <td>611153.74</td>\n",
       "      <td>3397281.17</td>\n",
       "    </tr>\n",
       "    <tr>\n",
       "      <th>ARIZONA</th>\n",
       "      <td>16.00</td>\n",
       "      <td>199.44</td>\n",
       "      <td>388.60</td>\n",
       "      <td>4.00</td>\n",
       "      <td>48.25</td>\n",
       "      <td>92.50</td>\n",
       "      <td>144.25</td>\n",
       "      <td>1624.00</td>\n",
       "      <td>16.00</td>\n",
       "      <td>0.19</td>\n",
       "      <td>...</td>\n",
       "      <td>60.50</td>\n",
       "      <td>741.00</td>\n",
       "      <td>16.00</td>\n",
       "      <td>2970977.92</td>\n",
       "      <td>5075830.19</td>\n",
       "      <td>5743.11</td>\n",
       "      <td>738360.34</td>\n",
       "      <td>1334990.84</td>\n",
       "      <td>2659236.07</td>\n",
       "      <td>20938615.73</td>\n",
       "    </tr>\n",
       "    <tr>\n",
       "      <th>ARKANSAS</th>\n",
       "      <td>73.00</td>\n",
       "      <td>94.88</td>\n",
       "      <td>167.80</td>\n",
       "      <td>1.00</td>\n",
       "      <td>11.00</td>\n",
       "      <td>45.00</td>\n",
       "      <td>131.00</td>\n",
       "      <td>1137.00</td>\n",
       "      <td>73.00</td>\n",
       "      <td>1.40</td>\n",
       "      <td>...</td>\n",
       "      <td>18.00</td>\n",
       "      <td>354.00</td>\n",
       "      <td>73.00</td>\n",
       "      <td>1997601.56</td>\n",
       "      <td>3202172.93</td>\n",
       "      <td>1411.81</td>\n",
       "      <td>127303.92</td>\n",
       "      <td>810870.22</td>\n",
       "      <td>2670217.75</td>\n",
       "      <td>21348257.55</td>\n",
       "    </tr>\n",
       "  </tbody>\n",
       "</table>\n",
       "<p>4 rows × 32 columns</p>\n",
       "</div>"
      ],
      "text/plain": [
       "         closed_loss                                                  \\\n",
       "               count   mean     std  min   25%   50%    75%      max   \n",
       "state                                                                  \n",
       "ALABAMA        61.00 520.75 2311.04 0.00  7.00 27.00  93.00 14064.00   \n",
       "ALASKA         15.00  28.00   41.38 0.00  1.50 14.00  42.50   157.00   \n",
       "ARIZONA        16.00 199.44  388.60 4.00 48.25 92.50 144.25  1624.00   \n",
       "ARKANSAS       73.00  94.88  167.80 1.00 11.00 45.00 131.00  1137.00   \n",
       "\n",
       "         open_loss       ... cwop_loss         total_pay              \\\n",
       "             count mean  ...       75%     max     count        mean   \n",
       "state                    ...                                           \n",
       "ALABAMA      61.00 0.64  ...     27.00 3554.00     61.00 16771509.61   \n",
       "ALASKA       15.00 0.20  ...     17.00   70.00     15.00   647465.67   \n",
       "ARIZONA      16.00 0.19  ...     60.50  741.00     16.00  2970977.92   \n",
       "ARKANSAS     73.00 1.40  ...     18.00  354.00     73.00  1997601.56   \n",
       "\n",
       "                                                                           \n",
       "                 std     min       25%        50%        75%          max  \n",
       "state                                                                      \n",
       "ALABAMA  83074427.40    0.00 103893.19  506268.81 1084320.81 550744673.38  \n",
       "ALASKA     988075.98    0.00  21770.76  313648.21  611153.74   3397281.17  \n",
       "ARIZONA   5075830.19 5743.11 738360.34 1334990.84 2659236.07  20938615.73  \n",
       "ARKANSAS  3202172.93 1411.81 127303.92  810870.22 2670217.75  21348257.55  \n",
       "\n",
       "[4 rows x 32 columns]"
      ]
     },
     "execution_count": 54,
     "metadata": {},
     "output_type": "execute_result"
    }
   ],
   "source": [
    "state_grouped[:4]\n",
    "# \tcount\tmean\tstd\tmin\t25%\t50%\t75%\tmax\tcount\tmean\t...\t75%\tmax\tcount\tmean\tstd\tmin\t25%\t50%\t75%\tmax\n",
    "# state\t\t\t\t\t\t\t\t\t\t\t\t\t\t\t\t\t\t\t\t\t\n",
    "# ALABAMA\t61.00\t520.75\t2311.04\t0.00\t7.00\t27.00\t93.00\t14064.00\t61.00\t0.64\t...\t27.00\t3554.00\t61.00\t16771509.61\t83074427.40\t0.00\t103893.19\t506268.81\t1084320.81\t550744673.38\n",
    "# ALASKA\t15.00\t28.00\t41.38\t0.00\t1.50\t14.00\t42.50\t157.00\t15.00\t0.20\t...\t17.00\t70.00\t15.00\t647465.67\t988075.98\t0.00\t21770.76\t313648.21\t611153.74\t3397281.17\n",
    "# ARIZONA\t16.00\t199.44\t388.60\t4.00\t48.25\t92.50\t144.25\t1624.00\t16.00\t0.19\t...\t60.50\t741.00\t16.00\t2970977.92\t5075830.19\t5743.11\t738360.34\t1334990.84\t2659236.07\t20938615.73\n",
    "# ARKANSAS\t73.00\t94.88\t167.80\t1.00\t11.00\t45.00\t"
   ]
  },
  {
   "cell_type": "markdown",
   "metadata": {},
   "source": [
    "From here we can select descriptions of individual columns.  For example, let's select just the grouped description for the closed loss."
   ]
  },
  {
   "cell_type": "code",
   "execution_count": 5,
   "metadata": {},
   "outputs": [],
   "source": [
    "closed_loss = None"
   ]
  },
  {
   "cell_type": "code",
   "execution_count": 55,
   "metadata": {},
   "outputs": [
    {
     "data": {
      "text/html": [
       "<div>\n",
       "<style scoped>\n",
       "    .dataframe tbody tr th:only-of-type {\n",
       "        vertical-align: middle;\n",
       "    }\n",
       "\n",
       "    .dataframe tbody tr th {\n",
       "        vertical-align: top;\n",
       "    }\n",
       "\n",
       "    .dataframe thead th {\n",
       "        text-align: right;\n",
       "    }\n",
       "</style>\n",
       "<table border=\"1\" class=\"dataframe\">\n",
       "  <thead>\n",
       "    <tr style=\"text-align: right;\">\n",
       "      <th></th>\n",
       "      <th>count</th>\n",
       "      <th>mean</th>\n",
       "      <th>std</th>\n",
       "      <th>min</th>\n",
       "      <th>25%</th>\n",
       "      <th>50%</th>\n",
       "      <th>75%</th>\n",
       "      <th>max</th>\n",
       "    </tr>\n",
       "    <tr>\n",
       "      <th>state</th>\n",
       "      <th></th>\n",
       "      <th></th>\n",
       "      <th></th>\n",
       "      <th></th>\n",
       "      <th></th>\n",
       "      <th></th>\n",
       "      <th></th>\n",
       "      <th></th>\n",
       "    </tr>\n",
       "  </thead>\n",
       "  <tbody>\n",
       "    <tr>\n",
       "      <th>ALABAMA</th>\n",
       "      <td>61.00</td>\n",
       "      <td>520.75</td>\n",
       "      <td>2311.04</td>\n",
       "      <td>0.00</td>\n",
       "      <td>7.00</td>\n",
       "      <td>27.00</td>\n",
       "      <td>93.00</td>\n",
       "      <td>14064.00</td>\n",
       "    </tr>\n",
       "    <tr>\n",
       "      <th>ALASKA</th>\n",
       "      <td>15.00</td>\n",
       "      <td>28.00</td>\n",
       "      <td>41.38</td>\n",
       "      <td>0.00</td>\n",
       "      <td>1.50</td>\n",
       "      <td>14.00</td>\n",
       "      <td>42.50</td>\n",
       "      <td>157.00</td>\n",
       "    </tr>\n",
       "    <tr>\n",
       "      <th>ARIZONA</th>\n",
       "      <td>16.00</td>\n",
       "      <td>199.44</td>\n",
       "      <td>388.60</td>\n",
       "      <td>4.00</td>\n",
       "      <td>48.25</td>\n",
       "      <td>92.50</td>\n",
       "      <td>144.25</td>\n",
       "      <td>1624.00</td>\n",
       "    </tr>\n",
       "    <tr>\n",
       "      <th>ARKANSAS</th>\n",
       "      <td>73.00</td>\n",
       "      <td>94.88</td>\n",
       "      <td>167.80</td>\n",
       "      <td>1.00</td>\n",
       "      <td>11.00</td>\n",
       "      <td>45.00</td>\n",
       "      <td>131.00</td>\n",
       "      <td>1137.00</td>\n",
       "    </tr>\n",
       "    <tr>\n",
       "      <th>CALIFORNIA</th>\n",
       "      <td>57.00</td>\n",
       "      <td>561.05</td>\n",
       "      <td>1035.47</td>\n",
       "      <td>1.00</td>\n",
       "      <td>41.00</td>\n",
       "      <td>161.00</td>\n",
       "      <td>571.00</td>\n",
       "      <td>5641.00</td>\n",
       "    </tr>\n",
       "  </tbody>\n",
       "</table>\n",
       "</div>"
      ],
      "text/plain": [
       "            count   mean     std  min   25%    50%    75%      max\n",
       "state                                                             \n",
       "ALABAMA     61.00 520.75 2311.04 0.00  7.00  27.00  93.00 14064.00\n",
       "ALASKA      15.00  28.00   41.38 0.00  1.50  14.00  42.50   157.00\n",
       "ARIZONA     16.00 199.44  388.60 4.00 48.25  92.50 144.25  1624.00\n",
       "ARKANSAS    73.00  94.88  167.80 1.00 11.00  45.00 131.00  1137.00\n",
       "CALIFORNIA  57.00 561.05 1035.47 1.00 41.00 161.00 571.00  5641.00"
      ]
     },
     "execution_count": 55,
     "metadata": {},
     "output_type": "execute_result"
    }
   ],
   "source": [
    "closed_loss[:5]\n",
    "# \tcount\tmean\tstd\tmin\t25%\t50%\t75%\tmax\n",
    "# state\t\t\t\t\t\t\t\t\n",
    "# ALABAMA\t61.00\t520.75\t2311.04\t0.00\t7.00\t27.00\t93.00\t14064.00\n",
    "# ALASKA\t15.00\t28.00\t41.38\t0.00\t1.50\t14.00\t42.50\t157.00\n",
    "# ARIZONA\t16.00\t199.44\t388.60\t4.00\t48.25\t92.50\t144.25\t1624.00\n",
    "# ARKANSAS\t73.00\t94.88\t167.80\t1.00\t11.00\t45.00\t131.00\t1137.00\n",
    "# CALIFORNIA\t57.00\t561.05\t1035.47\t1.00\t41.00\t161.00\t571.00\t5641.00"
   ]
  },
  {
   "cell_type": "markdown",
   "metadata": {},
   "source": [
    "Now that we have the closed loss counts of all of the states, let's begin to plot these."
   ]
  },
  {
   "cell_type": "markdown",
   "metadata": {},
   "source": [
    "Use pandas to create subplots of the `50%`, `75%` and `max` of each state."
   ]
  },
  {
   "cell_type": "code",
   "execution_count": 7,
   "metadata": {},
   "outputs": [],
   "source": [
    "# plot here"
   ]
  },
  {
   "cell_type": "markdown",
   "metadata": {},
   "source": [
    "> Answer: <img src=\"./closed-loss-subplots.png\" width=\"50%\">"
   ]
  },
  {
   "cell_type": "markdown",
   "metadata": {},
   "source": [
    "So we can see that most states are between 0 and 2000 for 50% percentile of the county, and over 5000 for the 75th percentile, and less than 50,000 for the max claims per county."
   ]
  },
  {
   "cell_type": "markdown",
   "metadata": {},
   "source": [
    "Now let's plot the total number of closed loss claims per state, sorted from most to least, and selecting just the top ten states."
   ]
  },
  {
   "cell_type": "code",
   "execution_count": 8,
   "metadata": {},
   "outputs": [],
   "source": [
    "# write code for plot here"
   ]
  },
  {
   "cell_type": "markdown",
   "metadata": {},
   "source": [
    "<img src=\"./total-loss-state.png\" width=\"50%\">"
   ]
  },
  {
   "cell_type": "markdown",
   "metadata": {},
   "source": [
    "Now let's try to plot multiple columns simultaneously."
   ]
  },
  {
   "cell_type": "markdown",
   "metadata": {},
   "source": [
    "Group by the state and take the sum of the all of the columns, then let's sort the entire dataframe by the sum of the `closed loss` per state, descending.  Assign the resulting dataframe to `states_by_loss_claims_all_cols`."
   ]
  },
  {
   "cell_type": "code",
   "execution_count": 9,
   "metadata": {},
   "outputs": [],
   "source": [
    "states_by_loss_claims_all_cols = None"
   ]
  },
  {
   "cell_type": "code",
   "execution_count": 62,
   "metadata": {},
   "outputs": [
    {
     "data": {
      "text/html": [
       "<div>\n",
       "<style scoped>\n",
       "    .dataframe tbody tr th:only-of-type {\n",
       "        vertical-align: middle;\n",
       "    }\n",
       "\n",
       "    .dataframe tbody tr th {\n",
       "        vertical-align: top;\n",
       "    }\n",
       "\n",
       "    .dataframe thead th {\n",
       "        text-align: right;\n",
       "    }\n",
       "</style>\n",
       "<table border=\"1\" class=\"dataframe\">\n",
       "  <thead>\n",
       "    <tr style=\"text-align: right;\">\n",
       "      <th></th>\n",
       "      <th>closed_loss</th>\n",
       "      <th>open_loss</th>\n",
       "      <th>cwop_loss</th>\n",
       "      <th>total_pay</th>\n",
       "    </tr>\n",
       "    <tr>\n",
       "      <th>state</th>\n",
       "      <th></th>\n",
       "      <th></th>\n",
       "      <th></th>\n",
       "      <th></th>\n",
       "    </tr>\n",
       "  </thead>\n",
       "  <tbody>\n",
       "    <tr>\n",
       "      <th>LOUISIANA</th>\n",
       "      <td>364596</td>\n",
       "      <td>701</td>\n",
       "      <td>84847</td>\n",
       "      <td>19444472963.33</td>\n",
       "    </tr>\n",
       "    <tr>\n",
       "      <th>TEXAS</th>\n",
       "      <td>216463</td>\n",
       "      <td>254</td>\n",
       "      <td>52546</td>\n",
       "      <td>6897342613.53</td>\n",
       "    </tr>\n",
       "    <tr>\n",
       "      <th>FLORIDA</th>\n",
       "      <td>164245</td>\n",
       "      <td>331</td>\n",
       "      <td>91395</td>\n",
       "      <td>4171595996.58</td>\n",
       "    </tr>\n",
       "    <tr>\n",
       "      <th>NEW JERSEY</th>\n",
       "      <td>159084</td>\n",
       "      <td>1435</td>\n",
       "      <td>29990</td>\n",
       "      <td>5978027433.87</td>\n",
       "    </tr>\n",
       "    <tr>\n",
       "      <th>NEW YORK</th>\n",
       "      <td>137703</td>\n",
       "      <td>503</td>\n",
       "      <td>27366</td>\n",
       "      <td>5350693515.93</td>\n",
       "    </tr>\n",
       "  </tbody>\n",
       "</table>\n",
       "</div>"
      ],
      "text/plain": [
       "            closed_loss  open_loss  cwop_loss      total_pay\n",
       "state                                                       \n",
       "LOUISIANA        364596        701      84847 19444472963.33\n",
       "TEXAS            216463        254      52546  6897342613.53\n",
       "FLORIDA          164245        331      91395  4171595996.58\n",
       "NEW JERSEY       159084       1435      29990  5978027433.87\n",
       "NEW YORK         137703        503      27366  5350693515.93"
      ]
     },
     "execution_count": 62,
     "metadata": {},
     "output_type": "execute_result"
    }
   ],
   "source": [
    "states_by_loss_claims_all_cols[:5]\n",
    "\n",
    "# \tclosed_loss\topen_loss\tcwop_loss\ttotal_pay\n",
    "# state\t\t\t\t\n",
    "# LOUISIANA\t364596\t701\t84847\t19444472963.33\n",
    "# TEXAS\t216463\t254\t52546\t6897342613.53\n",
    "# FLORIDA\t164245\t331\t91395\t4171595996.58\n",
    "# NEW JERSEY\t159084\t1435\t29990\t5978027433.87\n",
    "# NEW YORK\t137703\t503\t27366\t5350693515.93"
   ]
  },
  {
   "cell_type": "markdown",
   "metadata": {},
   "source": [
    "Now plot the metrics of these top five states with a separate subplot for each column.  Make the figure large enough so the data isn't squished.  "
   ]
  },
  {
   "cell_type": "code",
   "execution_count": 11,
   "metadata": {},
   "outputs": [],
   "source": [
    "\n",
    "\n",
    "# write code for plots here"
   ]
  },
  {
   "cell_type": "markdown",
   "metadata": {},
   "source": [
    "> Answer <img src=\"./subplot-states.png\" width=\"30%\">"
   ]
  },
  {
   "cell_type": "markdown",
   "metadata": {},
   "source": [
    "### Summary"
   ]
  },
  {
   "cell_type": "markdown",
   "metadata": {},
   "source": [
    "In this lesson, we how to both group our data by values within a column, and then perform aggregate queries in pandas from there.  We then saw how to turn this information in bar chart's with pandas' integration with matplotlib."
   ]
  }
 ],
 "metadata": {
  "kernelspec": {
   "display_name": "Python 3",
   "language": "python",
   "name": "python3"
  },
  "language_info": {
   "codemirror_mode": {
    "name": "ipython",
    "version": 3
   },
   "file_extension": ".py",
   "mimetype": "text/x-python",
   "name": "python",
   "nbconvert_exporter": "python",
   "pygments_lexer": "ipython3",
   "version": "3.7.4"
  }
 },
 "nbformat": 4,
 "nbformat_minor": 4
}
