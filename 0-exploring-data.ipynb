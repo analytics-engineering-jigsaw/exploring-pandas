{
 "cells": [
  {
   "cell_type": "markdown",
   "metadata": {},
   "source": [
    "# Exploring Data"
   ]
  },
  {
   "cell_type": "markdown",
   "metadata": {},
   "source": [
    "### Introduction"
   ]
  },
  {
   "cell_type": "markdown",
   "metadata": {},
   "source": [
    "Now that we know how to work with a dataframe and select individual columns, it's time for us to see if we can begin to understand our data."
   ]
  },
  {
   "cell_type": "markdown",
   "metadata": {},
   "source": [
    "Remember that as data scientists, we sometimes won't know where our data comes from."
   ]
  },
  {
   "cell_type": "markdown",
   "metadata": {},
   "source": [
    "> For example, in our movies datasets, are we looking at all of the movies, or all of the movies from a certain time period?  \n",
    "\n",
    "The answer to these questions will have an impact on how we interpret our results. "
   ]
  },
  {
   "cell_type": "markdown",
   "metadata": {},
   "source": [
    "### Exploring a DataFrame"
   ]
  },
  {
   "cell_type": "markdown",
   "metadata": {},
   "source": [
    "So let's get a better sense of the data in our 538 moves dataset.  The first thing we'll do is load up the data, and then perhaps look at the columns available."
   ]
  },
  {
   "cell_type": "code",
   "execution_count": 1,
   "metadata": {},
   "outputs": [],
   "source": [
    "import pandas as pd\n",
    "url = \"https://raw.githubusercontent.com/jigsawlabs-student/exploring-pandas/master/imdb_movies.csv\"\n",
    "movies_df = pd.read_csv(url)"
   ]
  },
  {
   "cell_type": "code",
   "execution_count": 23,
   "metadata": {},
   "outputs": [
    {
     "data": {
      "text/plain": [
       "Index(['title', 'genre', 'budget', 'runtime', 'year', 'month', 'revenue'], dtype='object')"
      ]
     },
     "execution_count": 23,
     "metadata": {},
     "output_type": "execute_result"
    }
   ],
   "source": [
    "movies_df.columns"
   ]
  },
  {
   "cell_type": "markdown",
   "metadata": {},
   "source": [
    "It may be difficult to understand what information is in these columns so perhaps we want to look at some of the initial values, which we can do with the `head` or `tail` methods."
   ]
  },
  {
   "cell_type": "code",
   "execution_count": 24,
   "metadata": {},
   "outputs": [
    {
     "data": {
      "text/html": [
       "<div>\n",
       "<style scoped>\n",
       "    .dataframe tbody tr th:only-of-type {\n",
       "        vertical-align: middle;\n",
       "    }\n",
       "\n",
       "    .dataframe tbody tr th {\n",
       "        vertical-align: top;\n",
       "    }\n",
       "\n",
       "    .dataframe thead th {\n",
       "        text-align: right;\n",
       "    }\n",
       "</style>\n",
       "<table border=\"1\" class=\"dataframe\">\n",
       "  <thead>\n",
       "    <tr style=\"text-align: right;\">\n",
       "      <th></th>\n",
       "      <th>title</th>\n",
       "      <th>genre</th>\n",
       "      <th>budget</th>\n",
       "      <th>runtime</th>\n",
       "      <th>year</th>\n",
       "      <th>month</th>\n",
       "      <th>revenue</th>\n",
       "    </tr>\n",
       "  </thead>\n",
       "  <tbody>\n",
       "    <tr>\n",
       "      <th>0</th>\n",
       "      <td>Avatar</td>\n",
       "      <td>Action</td>\n",
       "      <td>237000000</td>\n",
       "      <td>162.0</td>\n",
       "      <td>2009</td>\n",
       "      <td>12</td>\n",
       "      <td>2787965087</td>\n",
       "    </tr>\n",
       "    <tr>\n",
       "      <th>1</th>\n",
       "      <td>Pirates of the Caribbean: At World's End</td>\n",
       "      <td>Adventure</td>\n",
       "      <td>300000000</td>\n",
       "      <td>169.0</td>\n",
       "      <td>2007</td>\n",
       "      <td>5</td>\n",
       "      <td>961000000</td>\n",
       "    </tr>\n",
       "  </tbody>\n",
       "</table>\n",
       "</div>"
      ],
      "text/plain": [
       "                                      title      genre     budget  runtime  \\\n",
       "0                                    Avatar     Action  237000000    162.0   \n",
       "1  Pirates of the Caribbean: At World's End  Adventure  300000000    169.0   \n",
       "\n",
       "   year  month     revenue  \n",
       "0  2009     12  2787965087  \n",
       "1  2007      5   961000000  "
      ]
     },
     "execution_count": 24,
     "metadata": {},
     "output_type": "execute_result"
    }
   ],
   "source": [
    "movies_df.head(2)"
   ]
  },
  {
   "cell_type": "code",
   "execution_count": 25,
   "metadata": {},
   "outputs": [
    {
     "data": {
      "text/html": [
       "<div>\n",
       "<style scoped>\n",
       "    .dataframe tbody tr th:only-of-type {\n",
       "        vertical-align: middle;\n",
       "    }\n",
       "\n",
       "    .dataframe tbody tr th {\n",
       "        vertical-align: top;\n",
       "    }\n",
       "\n",
       "    .dataframe thead th {\n",
       "        text-align: right;\n",
       "    }\n",
       "</style>\n",
       "<table border=\"1\" class=\"dataframe\">\n",
       "  <thead>\n",
       "    <tr style=\"text-align: right;\">\n",
       "      <th></th>\n",
       "      <th>title</th>\n",
       "      <th>genre</th>\n",
       "      <th>budget</th>\n",
       "      <th>runtime</th>\n",
       "      <th>year</th>\n",
       "      <th>month</th>\n",
       "      <th>revenue</th>\n",
       "    </tr>\n",
       "  </thead>\n",
       "  <tbody>\n",
       "    <tr>\n",
       "      <th>1998</th>\n",
       "      <td>Joy Ride</td>\n",
       "      <td>NaN</td>\n",
       "      <td>23000000</td>\n",
       "      <td>97.0</td>\n",
       "      <td>2001</td>\n",
       "      <td>10</td>\n",
       "      <td>36642838</td>\n",
       "    </tr>\n",
       "    <tr>\n",
       "      <th>1999</th>\n",
       "      <td>The Adventurer: The Curse of the Midas Box</td>\n",
       "      <td>Fantasy</td>\n",
       "      <td>25000000</td>\n",
       "      <td>99.0</td>\n",
       "      <td>2013</td>\n",
       "      <td>12</td>\n",
       "      <td>6399</td>\n",
       "    </tr>\n",
       "  </tbody>\n",
       "</table>\n",
       "</div>"
      ],
      "text/plain": [
       "                                           title    genre    budget  runtime  \\\n",
       "1998                                    Joy Ride      NaN  23000000     97.0   \n",
       "1999  The Adventurer: The Curse of the Midas Box  Fantasy  25000000     99.0   \n",
       "\n",
       "      year  month   revenue  \n",
       "1998  2001     10  36642838  \n",
       "1999  2013     12      6399  "
      ]
     },
     "execution_count": 25,
     "metadata": {},
     "output_type": "execute_result"
    }
   ],
   "source": [
    "movies_df.tail(2)"
   ]
  },
  {
   "cell_type": "markdown",
   "metadata": {},
   "source": [
    "Or we can sample from a dataframe with the following."
   ]
  },
  {
   "cell_type": "code",
   "execution_count": 27,
   "metadata": {},
   "outputs": [
    {
     "data": {
      "text/html": [
       "<div>\n",
       "<style scoped>\n",
       "    .dataframe tbody tr th:only-of-type {\n",
       "        vertical-align: middle;\n",
       "    }\n",
       "\n",
       "    .dataframe tbody tr th {\n",
       "        vertical-align: top;\n",
       "    }\n",
       "\n",
       "    .dataframe thead th {\n",
       "        text-align: right;\n",
       "    }\n",
       "</style>\n",
       "<table border=\"1\" class=\"dataframe\">\n",
       "  <thead>\n",
       "    <tr style=\"text-align: right;\">\n",
       "      <th></th>\n",
       "      <th>title</th>\n",
       "      <th>genre</th>\n",
       "      <th>budget</th>\n",
       "      <th>runtime</th>\n",
       "      <th>year</th>\n",
       "      <th>month</th>\n",
       "      <th>revenue</th>\n",
       "    </tr>\n",
       "  </thead>\n",
       "  <tbody>\n",
       "    <tr>\n",
       "      <th>1169</th>\n",
       "      <td>42</td>\n",
       "      <td>Drama</td>\n",
       "      <td>40000000</td>\n",
       "      <td>128.0</td>\n",
       "      <td>2013</td>\n",
       "      <td>4</td>\n",
       "      <td>95020213</td>\n",
       "    </tr>\n",
       "    <tr>\n",
       "      <th>618</th>\n",
       "      <td>Mystery Men</td>\n",
       "      <td>Adventure</td>\n",
       "      <td>68000000</td>\n",
       "      <td>121.0</td>\n",
       "      <td>1999</td>\n",
       "      <td>8</td>\n",
       "      <td>29762011</td>\n",
       "    </tr>\n",
       "    <tr>\n",
       "      <th>1305</th>\n",
       "      <td>Water for Elephants</td>\n",
       "      <td>Drama</td>\n",
       "      <td>38000000</td>\n",
       "      <td>120.0</td>\n",
       "      <td>2011</td>\n",
       "      <td>3</td>\n",
       "      <td>114156230</td>\n",
       "    </tr>\n",
       "  </tbody>\n",
       "</table>\n",
       "</div>"
      ],
      "text/plain": [
       "                    title      genre    budget  runtime  year  month  \\\n",
       "1169                   42      Drama  40000000    128.0  2013      4   \n",
       "618           Mystery Men  Adventure  68000000    121.0  1999      8   \n",
       "1305  Water for Elephants      Drama  38000000    120.0  2011      3   \n",
       "\n",
       "        revenue  \n",
       "1169   95020213  \n",
       "618    29762011  \n",
       "1305  114156230  "
      ]
     },
     "execution_count": 27,
     "metadata": {},
     "output_type": "execute_result"
    }
   ],
   "source": [
    "movies_df.sample(3)"
   ]
  },
  {
   "cell_type": "markdown",
   "metadata": {},
   "source": [
    "### Viewing Sample Statistics"
   ]
  },
  {
   "cell_type": "markdown",
   "metadata": {},
   "source": [
    "In pandas, we can view sample statistics either on a column or across a dataframe."
   ]
  },
  {
   "cell_type": "markdown",
   "metadata": {},
   "source": [
    "For example, we can look at the mean budget in the dataset."
   ]
  },
  {
   "cell_type": "code",
   "execution_count": 28,
   "metadata": {},
   "outputs": [
    {
     "data": {
      "text/plain": [
       "60436856.172"
      ]
     },
     "execution_count": 28,
     "metadata": {},
     "output_type": "execute_result"
    }
   ],
   "source": [
    "movies_df.budget.mean()"
   ]
  },
  {
   "cell_type": "markdown",
   "metadata": {},
   "source": [
    "Or we can look at the mean across our numeric columns."
   ]
  },
  {
   "cell_type": "code",
   "execution_count": 37,
   "metadata": {},
   "outputs": [
    {
     "data": {
      "text/plain": [
       "budget     6.043686e+07\n",
       "runtime    1.132675e+02\n",
       "year       2.004427e+03\n",
       "month      7.044000e+00\n",
       "revenue    1.643506e+08\n",
       "dtype: float64"
      ]
     },
     "execution_count": 37,
     "metadata": {},
     "output_type": "execute_result"
    }
   ],
   "source": [
    "movies_df.select_dtypes(exclude = 'object').mean()"
   ]
  },
  {
   "cell_type": "markdown",
   "metadata": {},
   "source": [
    "Now if we want to get an overview of the data in each of the columns, we can do so with the describe method."
   ]
  },
  {
   "cell_type": "code",
   "execution_count": 8,
   "metadata": {},
   "outputs": [
    {
     "data": {
      "text/html": [
       "<div>\n",
       "<style scoped>\n",
       "    .dataframe tbody tr th:only-of-type {\n",
       "        vertical-align: middle;\n",
       "    }\n",
       "\n",
       "    .dataframe tbody tr th {\n",
       "        vertical-align: top;\n",
       "    }\n",
       "\n",
       "    .dataframe thead th {\n",
       "        text-align: right;\n",
       "    }\n",
       "</style>\n",
       "<table border=\"1\" class=\"dataframe\">\n",
       "  <thead>\n",
       "    <tr style=\"text-align: right;\">\n",
       "      <th></th>\n",
       "      <th>year</th>\n",
       "      <th>budget</th>\n",
       "      <th>domgross</th>\n",
       "      <th>intgross</th>\n",
       "      <th>budget_2013$</th>\n",
       "      <th>domgross_2013$</th>\n",
       "      <th>intgross_2013$</th>\n",
       "      <th>period code</th>\n",
       "      <th>decade code</th>\n",
       "    </tr>\n",
       "  </thead>\n",
       "  <tbody>\n",
       "    <tr>\n",
       "      <th>count</th>\n",
       "      <td>1794.000000</td>\n",
       "      <td>1.794000e+03</td>\n",
       "      <td>1.777000e+03</td>\n",
       "      <td>1.783000e+03</td>\n",
       "      <td>1.794000e+03</td>\n",
       "      <td>1.776000e+03</td>\n",
       "      <td>1.783000e+03</td>\n",
       "      <td>1615.000000</td>\n",
       "      <td>1615.000000</td>\n",
       "    </tr>\n",
       "    <tr>\n",
       "      <th>mean</th>\n",
       "      <td>2002.552397</td>\n",
       "      <td>4.482646e+07</td>\n",
       "      <td>6.913205e+07</td>\n",
       "      <td>1.503857e+08</td>\n",
       "      <td>5.546461e+07</td>\n",
       "      <td>9.517478e+07</td>\n",
       "      <td>1.978380e+08</td>\n",
       "      <td>2.419814</td>\n",
       "      <td>1.937461</td>\n",
       "    </tr>\n",
       "    <tr>\n",
       "      <th>std</th>\n",
       "      <td>8.979731</td>\n",
       "      <td>4.818603e+07</td>\n",
       "      <td>8.036731e+07</td>\n",
       "      <td>2.103353e+08</td>\n",
       "      <td>5.491864e+07</td>\n",
       "      <td>1.259653e+08</td>\n",
       "      <td>2.835079e+08</td>\n",
       "      <td>1.194620</td>\n",
       "      <td>0.690116</td>\n",
       "    </tr>\n",
       "    <tr>\n",
       "      <th>min</th>\n",
       "      <td>1970.000000</td>\n",
       "      <td>7.000000e+03</td>\n",
       "      <td>0.000000e+00</td>\n",
       "      <td>8.280000e+02</td>\n",
       "      <td>8.632000e+03</td>\n",
       "      <td>8.990000e+02</td>\n",
       "      <td>8.990000e+02</td>\n",
       "      <td>1.000000</td>\n",
       "      <td>1.000000</td>\n",
       "    </tr>\n",
       "    <tr>\n",
       "      <th>25%</th>\n",
       "      <td>1998.000000</td>\n",
       "      <td>1.200000e+07</td>\n",
       "      <td>1.631157e+07</td>\n",
       "      <td>2.612947e+07</td>\n",
       "      <td>1.606892e+07</td>\n",
       "      <td>2.054659e+07</td>\n",
       "      <td>3.323260e+07</td>\n",
       "      <td>1.000000</td>\n",
       "      <td>1.000000</td>\n",
       "    </tr>\n",
       "    <tr>\n",
       "      <th>50%</th>\n",
       "      <td>2005.000000</td>\n",
       "      <td>2.800000e+07</td>\n",
       "      <td>4.219406e+07</td>\n",
       "      <td>7.648246e+07</td>\n",
       "      <td>3.699579e+07</td>\n",
       "      <td>5.599364e+07</td>\n",
       "      <td>9.623964e+07</td>\n",
       "      <td>2.000000</td>\n",
       "      <td>2.000000</td>\n",
       "    </tr>\n",
       "    <tr>\n",
       "      <th>75%</th>\n",
       "      <td>2009.000000</td>\n",
       "      <td>6.000000e+07</td>\n",
       "      <td>9.335492e+07</td>\n",
       "      <td>1.898509e+08</td>\n",
       "      <td>7.833790e+07</td>\n",
       "      <td>1.216784e+08</td>\n",
       "      <td>2.414790e+08</td>\n",
       "      <td>3.000000</td>\n",
       "      <td>2.000000</td>\n",
       "    </tr>\n",
       "    <tr>\n",
       "      <th>max</th>\n",
       "      <td>2013.000000</td>\n",
       "      <td>4.250000e+08</td>\n",
       "      <td>7.605076e+08</td>\n",
       "      <td>2.783919e+09</td>\n",
       "      <td>4.614359e+08</td>\n",
       "      <td>1.771683e+09</td>\n",
       "      <td>3.171931e+09</td>\n",
       "      <td>5.000000</td>\n",
       "      <td>3.000000</td>\n",
       "    </tr>\n",
       "  </tbody>\n",
       "</table>\n",
       "</div>"
      ],
      "text/plain": [
       "              year        budget      domgross      intgross  budget_2013$  \\\n",
       "count  1794.000000  1.794000e+03  1.777000e+03  1.783000e+03  1.794000e+03   \n",
       "mean   2002.552397  4.482646e+07  6.913205e+07  1.503857e+08  5.546461e+07   \n",
       "std       8.979731  4.818603e+07  8.036731e+07  2.103353e+08  5.491864e+07   \n",
       "min    1970.000000  7.000000e+03  0.000000e+00  8.280000e+02  8.632000e+03   \n",
       "25%    1998.000000  1.200000e+07  1.631157e+07  2.612947e+07  1.606892e+07   \n",
       "50%    2005.000000  2.800000e+07  4.219406e+07  7.648246e+07  3.699579e+07   \n",
       "75%    2009.000000  6.000000e+07  9.335492e+07  1.898509e+08  7.833790e+07   \n",
       "max    2013.000000  4.250000e+08  7.605076e+08  2.783919e+09  4.614359e+08   \n",
       "\n",
       "       domgross_2013$  intgross_2013$  period code  decade code  \n",
       "count    1.776000e+03    1.783000e+03  1615.000000  1615.000000  \n",
       "mean     9.517478e+07    1.978380e+08     2.419814     1.937461  \n",
       "std      1.259653e+08    2.835079e+08     1.194620     0.690116  \n",
       "min      8.990000e+02    8.990000e+02     1.000000     1.000000  \n",
       "25%      2.054659e+07    3.323260e+07     1.000000     1.000000  \n",
       "50%      5.599364e+07    9.623964e+07     2.000000     2.000000  \n",
       "75%      1.216784e+08    2.414790e+08     3.000000     2.000000  \n",
       "max      1.771683e+09    3.171931e+09     5.000000     3.000000  "
      ]
     },
     "execution_count": 8,
     "metadata": {},
     "output_type": "execute_result"
    }
   ],
   "source": [
    "movies_df.describe()"
   ]
  },
  {
   "cell_type": "markdown",
   "metadata": {},
   "source": [
    "As we can see, this shows us the `mean` (that is, the average), and the standard deviation (which we'll describe later), as well as the range and percentiles."
   ]
  },
  {
   "cell_type": "markdown",
   "metadata": {},
   "source": [
    "> We can see even more information with `movies_df.describe(include = 'all')`."
   ]
  },
  {
   "cell_type": "code",
   "execution_count": 87,
   "metadata": {},
   "outputs": [],
   "source": [
    "# movies_df.describe(include='all')"
   ]
  },
  {
   "cell_type": "markdown",
   "metadata": {},
   "source": [
    "For example, we can see that our movie years range from 1970 to 2013, and that the minimum budget value is 7000."
   ]
  },
  {
   "cell_type": "markdown",
   "metadata": {},
   "source": [
    "Viewing a histogram of the data.  For a single column, we can view a histogram of the data with the `value_counts` method."
   ]
  },
  {
   "cell_type": "code",
   "execution_count": 64,
   "metadata": {},
   "outputs": [
    {
     "data": {
      "text/plain": [
       "Action             483\n",
       "Drama              365\n",
       "Comedy             359\n",
       "Adventure          236\n",
       "Animation           93\n",
       "Fantasy             80\n",
       "Crime               76\n",
       "Thriller            73\n",
       "Horror              59\n",
       "Science Fiction     52\n",
       "Romance             40\n",
       "Name: genre, dtype: int64"
      ]
     },
     "execution_count": 64,
     "metadata": {},
     "output_type": "execute_result"
    }
   ],
   "source": [
    "movies_df['genre'].value_counts()"
   ]
  },
  {
   "cell_type": "markdown",
   "metadata": {},
   "source": [
    "But this method is not available across a dataframe."
   ]
  },
  {
   "cell_type": "markdown",
   "metadata": {},
   "source": [
    "### Summary"
   ]
  },
  {
   "cell_type": "markdown",
   "metadata": {},
   "source": [
    "In this lesson, we learned some basic methods for exploring data.  We saw how to get an overview of the data in an entire dataframe with the `head`, `tail`, `columns` and `describe` method.\n",
    "\n",
    "Then we saw how we can focus in on individual columns by plotting our data with the `plot` method, or calling `describe` on a single column, or by using the `value_counts` method."
   ]
  }
 ],
 "metadata": {
  "kernelspec": {
   "display_name": "Python 3",
   "language": "python",
   "name": "python3"
  },
  "language_info": {
   "codemirror_mode": {
    "name": "ipython",
    "version": 3
   },
   "file_extension": ".py",
   "mimetype": "text/x-python",
   "name": "python",
   "nbconvert_exporter": "python",
   "pygments_lexer": "ipython3",
   "version": "3.7.4"
  }
 },
 "nbformat": 4,
 "nbformat_minor": 4
}
